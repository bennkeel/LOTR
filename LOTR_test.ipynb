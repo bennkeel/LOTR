{
 "cells": [
  {
   "cell_type": "code",
   "execution_count": 29,
   "metadata": {},
   "outputs": [],
   "source": [
    "## Josh Blaz -- LOTR\n",
    "## CS401 -- NLP\n",
    "\n",
    "import nltk\n",
    "import re\n",
    "import urllib.request\n",
    "import lxml.html as lh\n",
    "import io\n",
    "import requests\n",
    "import os\n",
    "import glob\n",
    "from ggplot import *\n",
    "\n",
    "import pandas as pd\n",
    "import matplotlib.pyplot as plt\n",
    "import numpy as np\n",
    "\n",
    "from nltk.corpus import stopwords\n",
    "\n",
    "#NOTE: Sentiment140 Polarity values: 0: negative, 2: neutral, 4: positive"
   ]
  },
  {
   "cell_type": "markdown",
   "metadata": {},
   "source": [
    "#### **NOTE: Elvish text is translated awkwardly into the .txt format    \n",
    "</br>\n",
    "##### IE:   \n",
    "</br>\n",
    "#### ►M MPR -F+MTRX MP ft PPtK P&RMPht: P. t. The last Two runes are the initials of Thror and Thrain.**"
   ]
  },
  {
   "cell_type": "code",
   "execution_count": 16,
   "metadata": {
    "collapsed": true
   },
   "outputs": [],
   "source": [
    "# Used Chapterize to split books into chapters \n",
    "## https://github.com/JonathanReeve/chapterize\n",
    "### Chapterize didn't work 100% perfectly, so I had to go through and the prologues back in when it cut them out\n",
    "\n",
    "# These are lists containing strings of every chapter for each book\n",
    "silm_chapters = []\n",
    "hobbit_chapters = []\n",
    "fellowship_chapters = []\n",
    "twotowers_chapters = []\n",
    "return_chapters = []\n",
    "\n",
    "# Paths to directories storing book chapters\n",
    "list_of_paths = ['/Users/blaz/Desktop/LOTR/silmarillion-chapters', '/Users/blaz/Desktop/LOTR/hobbit-chapters',\\\n",
    "                '/Users/blaz/Desktop/LOTR/fellowship-chapters', '/Users/blaz/Desktop/LOTR/twotowers-chapters',\\\n",
    "                '/Users/blaz/Desktop/LOTR/return-chapters']\n",
    "\n",
    "for path in list_of_paths: # iterate through the list of folder paths for each book\n",
    "    for file in sorted(glob.glob(os.path.join(path,'*.txt'))): # This gives us a sorted list of the files in each directory                                                         \n",
    "        f = open(file, 'r') # open and read file               # allowing us to read in the chapters in order.\n",
    "        txt = f.read()\n",
    "        ## determine which path we're using and append it to the correct book chapter list\n",
    "        if path == '/Users/blaz/Desktop/LOTR/silmarillion-chapters': \n",
    "            # Because of an issue with 'glob', I had to create a copy of the final chapter in The Silmarillion\n",
    "            silm_chapters.append(txt)\n",
    "        elif path == '/Users/blaz/Desktop/LOTR/hobbit-chapters':\n",
    "            hobbit_chapters.append(txt)\n",
    "        elif path == '/Users/blaz/Desktop/LOTR/fellowship-chapters': \n",
    "            fellowship_chapters.append(txt)\n",
    "        elif path == '/Users/blaz/Desktop/LOTR/twotowers-chapters': \n",
    "            twotowers_chapters.append(txt)\n",
    "        elif path == '/Users/blaz/Desktop/LOTR/return-chapters': \n",
    "            return_chapters.append(txt)"
   ]
  },
  {
   "cell_type": "code",
   "execution_count": 17,
   "metadata": {
    "collapsed": true
   },
   "outputs": [],
   "source": [
    "# Store chapter names for use in dataframes later\n",
    "\n",
    "silm_chapter_names = [\"Ainundalë\", \"Valaquenta\", \"Of the Beginning of Days\", \"Of Aulë and Yavanna\" , \"Of the Coming of the Elves and the Captivity of Melkor\",\\\n",
    "                     \"Of Thingol and Melian\", \"Of Eldamar and the Princes of the Eldalië\", \"Of Fëanor and the Unchaining of Melkor\", \"Of the Silmarils and the Unrest of the Noldor\",\\\n",
    "                     \"Of the Darkening of Valinor\", \"Of the Flight of the Noldor\", \"Of the Sindar\", \"Of the Sun and Moon and the Hiding of Valinor\", \"Of Men\", \"Of the Return of the Noldor\",\\\n",
    "                     \"Of Beleriad and its Realms\", \"Of the Noldor in Beleriad\", \"Of Maeglin\", \"Of the Coming of Men into the West\", \"Of the Ruin of Beleriad and the Fall of Fingolfin\", \"Of Beren and Lúthien\",\\\n",
    "                     \"Of the Fifth Battle: Nirnaeth Arnoediad\", \"Of Túrin Turambar\", \"Of the Ruin of Doriath\", \"Of Tuor and the Fall of Gondolin\", \"Of the Voyage of Eärendil and the War of Wrath\", \\\n",
    "                     \"Akallabêth: The Downfall of Númenor\", \"Of the Rings of Power and the Third Age\"]\n",
    "\n",
    "hobbit_chapter_names = [\"An Unexpected Party\", \"Roast Mutton\", \"A Short Rest\", \"Over Hill and Under Hill\", \"Riddles In The Dark\", \\\n",
    "                       \"Out Of The Frying-Pan Into The Fire\", \"Queer Lodgings\", \"Flies And Spiders\", \"Barrels Out Of Bond\", \"A Warm Welcome\", \\\n",
    "                       \"On The Doorstep\", \"Inside Information\", \"Not At Home\", \"Fire And Water\", \"The Gathering Of The Clouds\", \"A Thief In The Night\", \\\n",
    "                       \"The Clouds Burst\", \"The Return Journey\", \"The Last Stage\"]\n",
    "\n",
    "fellowship_chapter_names = [\"Concerning Hobbits\", \"Concerning Pipeweed\", \"Of the Ordering of the Shire\", \"Note on the Shire Records\", \"A Long-expected Party\", \"The Shadow of the Past\", \\\n",
    "                           \"Three is Company\", \"A Short Cut to Mushrooms\", \"A Conspiracy Unmasked\", \"The Old Forest\", \"In the House of Tom Bombadil\", \"Fog on the Barrow-downs\", \"At the Sign of the Prancing Pony\",\\\n",
    "                           \"Strider\", \"A Knife in the Dark\", \"Flight to the Ford\", \"Many Meetings\", \"The Council of Elrond\", \"The Ring goes South\", \"A Journey in the Dark\", \"The Bridge of Khazad-dûm\", \\\n",
    "                           \"Lothlórien\", \"The Mirror of Galadriel\", \"Farewell to Lórien\", \"The Great River\", \"The Breaking of the Fellowship\"]\n",
    "\n",
    "twotowers_chapter_names = [\"The Departure of Boromir\", \"The Riders of Rohan\", \"The Uruk-hai\", \"Treebeard\", \"The White Rider\", \"The King of the Golden Hall\", \"Helm's Deep\", \"The Road to Isengard\", \"Flotsam and Jetsam\", \\\n",
    "                          \"The Voice of Saruman\", \"The Palantír\", \"The Taming of Smeagol\", \"The Passage of the Marshes\", \"The Black Gate is Closed\", \"Of Herbs and Stewed Rabbit\", \"The Window of the West\", \"The Forbidden Pool\", \\\n",
    "                          \"Journey to the Cross-roads\", \"The Stairs to Cirith Ungol\", \"Shelob's Lair\", \"The Choices of Master Samwise\"]\n",
    "\n",
    "return_chapter_names = [\"Minas Tirith\", \"The Passing of the Grey Company\", \"The Muster of Rohan\", \"The Siege of Gondor\", \"The Ride of Rohirrim\", \"The Battle of the Pelennor Fields\", \"The Pyre of Denethor\",\\\n",
    "                       \"The Houses of Healing\", \"The Last Debate\", \"The Black Gate Opens\", \"The Tower of Cirith Ungol\", \"The Land of Shadow\", \"Mount Doom\", \"The Field of Cormallen\", \"The Steward and the King\", \\\n",
    "                       \"Many Partings\", \"Homeward Bound\", \"Scouring of the Shire\", \"The Grey Havens\"]\n"
   ]
  },
  {
   "cell_type": "markdown",
   "metadata": {},
   "source": [
    "# Sentiment Analysis"
   ]
  },
  {
   "cell_type": "markdown",
   "metadata": {},
   "source": [
    "## **Steps**\n",
    "</br>\n",
    "### ** 1. Segment all chapters into page-sized objects    **    \n",
    "</br>\n",
    "### ** 2. Send all segments to Sentiment140 API by chapter    **   \n",
    "</br>\n",
    "### ** 3. Calculate polarity averages and polarity lists. **   \n",
    "</br>\n",
    "### ** 4. Store API polarity ratings and send export to csv to plot**    "
   ]
  },
  {
   "cell_type": "code",
   "execution_count": 18,
   "metadata": {
    "collapsed": true
   },
   "outputs": [],
   "source": [
    "\"\"\"\n",
    "Function that segments given chapter into a page-sized (2940 character) segments to be sent to the API.\n",
    "\n",
    "Parameters - chapter - chapter of a book to be broken into segments\n",
    "           - cut - length that we segment the text with\n",
    "       \n",
    "Returns a list of (string) segments of the chapter.\n",
    "\"\"\"\n",
    "def Segmenter(chapter, cut):\n",
    "    segments = []\n",
    "    # start and end indices for segmenting the text\n",
    "    start = 0\n",
    "    end = cut\n",
    "    while end < len(chapter) + cut:\n",
    "        segments.append(chapter[start:end])\n",
    "        start = end\n",
    "        end = end + cut\n",
    "    return segments #segments of input chapter"
   ]
  },
  {
   "cell_type": "markdown",
   "metadata": {},
   "source": [
    "**This function allows us to split the chapters of each book into segments to send in our HTTP-Post JSON requests.   \n",
    "</br>\n",
    "I chose 2940 as the length because this is the exact number of characters per page (including spaces) in my copy of Fellowship of the Ring. **"
   ]
  },
  {
   "cell_type": "code",
   "execution_count": 19,
   "metadata": {
    "collapsed": true
   },
   "outputs": [],
   "source": [
    "# Lists of Lists of Lists storing all segments of all chapters for each book\n",
    "# [[chapter1 segment 0-2500, chap1, segmenet 2500-5000]... [chapter2 segment0-2500, ...]...]\n",
    "silm_segments = []\n",
    "hobbit_segments = []\n",
    "fellowship_segments = []\n",
    "twotowers_segments = []\n",
    "return_segments = []\n",
    "\n",
    "# List containing the lists storing each books' chapters\n",
    "list_of_books = [silm_chapters, hobbit_chapters, fellowship_chapters, twotowers_chapters, return_chapters]\n",
    "# List allowing us to access the segment lists\n",
    "list_of_segments = [silm_segments, hobbit_segments, fellowship_segments, twotowers_segments, return_segments]\n",
    "\n",
    "for i in range(len(list_of_books)):\n",
    "    for chapter in list_of_books[i]: # Segment entire chapter using Segmenter function, with 2940 character cuts\n",
    "        list_of_segments[i].append(Segmenter(chapter,2940))\n"
   ]
  },
  {
   "cell_type": "markdown",
   "metadata": {},
   "source": [
    "**In the cell above I create lists of lists for segments of each chapter of each corpus or book, and append to them using my \"Segmenter\"\n",
    "function, storing them neatly like this will allow me to iteratively query the API server. **"
   ]
  },
  {
   "cell_type": "code",
   "execution_count": 20,
   "metadata": {
    "collapsed": true
   },
   "outputs": [],
   "source": [
    "\"\"\"\n",
    "Function that sends segments of 1 chapter through the Sentiment140 API.\n",
    "In order to do so, it creates and appends segments to a JSON file, then posts the JSON queries to the API server\n",
    "using requests module (using an HTTP Post)\n",
    "\n",
    "Parameters - chapter_segments - segments of an entire chapter of a book\n",
    "\n",
    "Returns a list of polarities for segments of the chapter, as well as the polarity average for the chapter\n",
    "\n",
    "Note: Maximum of 700,000 characters per API request, though this shouldn't be a problem\n",
    "\"\"\"\n",
    "\n",
    "def Polarity(chapter_segments): # segments of a single chapter\n",
    "    request = {'data':[]}\n",
    "    polarityList = []\n",
    "    counter = 0\n",
    "    for segment in chapter_segments: # Fill JSON\n",
    "        request['data'].append({'text':segment})\n",
    "    r = requests.post('http://www.sentiment140.com/api/bulkClassifyJson?appid=blaz_j1@denison.edu', json=request)\n",
    "    jso = r.json()\n",
    "    for i in range(len(request['data'])-1):\n",
    "        polarityList.append(jso['data'][i]['polarity'])\n",
    "    \n",
    "    polarityTotal = 0\n",
    "    for value in polarityList:\n",
    "        polarityTotal = polarityTotal + value\n",
    "    \n",
    "    polarityAVG = polarityTotal/len(polarityList)\n",
    "    #print(polarityList)\n",
    "    return polarityList, polarityAVG"
   ]
  },
  {
   "cell_type": "code",
   "execution_count": 21,
   "metadata": {
    "scrolled": false
   },
   "outputs": [
    {
     "name": "stdout",
     "output_type": "stream",
     "text": [
      "silm\n",
      "hobbit\n",
      "fellowship\n",
      "two towers\n",
      "return of the king\n"
     ]
    }
   ],
   "source": [
    "# This function takes about a minute to run\n",
    "\n",
    "# store all averages, then store chapter avg, also overall average\n",
    "silm_polarity_avg = []\n",
    "hobbit_polarity_avg = []\n",
    "fellowship_polarity_avg = []\n",
    "twotowers_polarity_avg = []\n",
    "return_polarity_avg = []\n",
    "\n",
    "silm_polarity_lists = []\n",
    "hobbit_polarity_lists = []\n",
    "fellowship_polarity_lists = []\n",
    "twotowers_polarity_lists = []\n",
    "return_polarity_lists = []\n",
    "### Need to get chapter names in\n",
    "\n",
    "for x in range(len(list_of_books)):\n",
    "    book = list_of_books[x]\n",
    "    segs = list_of_segments[x]\n",
    "    \n",
    "    if x == 0:\n",
    "        print(\"silm\")\n",
    "    if x == 1:\n",
    "        print(\"hobbit\")\n",
    "    if x == 2:\n",
    "        print(\"fellowship\")\n",
    "    if x == 3:\n",
    "        print(\"two towers\")\n",
    "    if x == 4:\n",
    "        print(\"return of the king\")\n",
    "    \n",
    "    for i in range(len(book)):\n",
    "        if x == 0:\n",
    "            temp1 = []\n",
    "            temp2 = 0.0\n",
    "            temp1,temp2 = Polarity(segs[i])\n",
    "            silm_polarity_lists.append(temp1)\n",
    "            silm_polarity_avg.append(temp2)\n",
    "        if x == 1:\n",
    "            temp1 = []\n",
    "            temp2 = 0.0\n",
    "            temp1,temp2 = Polarity(segs[i])\n",
    "            hobbit_polarity_lists.append(temp1)\n",
    "            hobbit_polarity_avg.append(temp2)\n",
    "        if x == 2:\n",
    "            temp1 = []\n",
    "            temp2 = 0.0\n",
    "            temp1,temp2 = Polarity(segs[i])\n",
    "            fellowship_polarity_lists.append(temp1)\n",
    "            fellowship_polarity_avg.append(temp2)\n",
    "        if x == 3:\n",
    "            temp1 = []\n",
    "            temp2 = 0.0\n",
    "            temp1,temp2 = Polarity(segs[i])\n",
    "            twotowers_polarity_lists.append(temp1)\n",
    "            twotowers_polarity_avg.append(temp2)\n",
    "        if x == 4:\n",
    "            temp1 = []\n",
    "            temp2 = 0.0\n",
    "            temp1,temp2 = Polarity(segs[i])\n",
    "            return_polarity_lists.append(temp1)\n",
    "            return_polarity_avg.append(temp2)\n",
    "\n",
    "all_polarity_avgs = [silm_polarity_avg, hobbit_polarity_avg, fellowship_polarity_avg, twotowers_polarity_avg, return_polarity_avg]\n",
    "\n",
    "all_polarity_lists = [silm_polarity_lists, hobbit_polarity_lists, fellowship_polarity_lists, twotowers_polarity_lists, return_polarity_lists]  \n",
    "# chapter 3 of return of the king is super dark"
   ]
  },
  {
   "cell_type": "code",
   "execution_count": 22,
   "metadata": {
    "scrolled": true
   },
   "outputs": [
    {
     "name": "stdout",
     "output_type": "stream",
     "text": [
      "\n",
      "SILM:\n",
      "['Ainundalë', 'Valaquenta', 'Of the Beginning of Days', 'Of Aulë and Yavanna', 'Of the Coming of the Elves and the Captivity of Melkor', 'Of Thingol and Melian', 'Of Eldamar and the Princes of the Eldalië', 'Of Fëanor and the Unchaining of Melkor', 'Of the Silmarils and the Unrest of the Noldor', 'Of the Darkening of Valinor', 'Of the Flight of the Noldor', 'Of the Sindar', 'Of the Sun and Moon and the Hiding of Valinor', 'Of Men', 'Of the Return of the Noldor', 'Of Beleriad and its Realms', 'Of the Noldor in Beleriad', 'Of Maeglin', 'Of the Coming of Men into the West', 'Of the Ruin of Beleriad and the Fall of Fingolfin', 'Of Beren and Lúthien', 'Of the Fifth Battle: Nirnaeth Arnoediad', 'Of Túrin Turambar', 'Of the Ruin of Doriath', 'Of Tuor and the Fall of Gondolin', 'Of the Voyage of Eärendil and the War of Wrath', 'Akallabêth: The Downfall of Númenor', 'Of the Rings of Power and the Third Age']\n",
      "[1.6666666666666667, 3.3333333333333335, 2.857142857142857, 2.6666666666666665, 2.2857142857142856, 4.0, 2.0, 2.6666666666666665, 1.6, 1.3333333333333333, 0.7272727272727273, 2.4, 2.0, 2.0, 1.4, 4.0, 1.5, 1.7142857142857142, 2.0, 0.9090909090909091, 0.5, 0.24, 0.6666666666666666, 0.6666666666666666, 0.5, 1.1428571428571428, 1.84375, 1.84375]\n",
      "\n",
      "HOBBIT\n",
      "['An Unexpected Party', 'Roast Mutton', 'A Short Rest', 'Over Hill and Under Hill', 'Riddles In The Dark', 'Out Of The Frying-Pan Into The Fire', 'Queer Lodgings', 'Flies And Spiders', 'Barrels Out Of Bond', 'A Warm Welcome', 'On The Doorstep', 'Inside Information', 'Not At Home', 'Fire And Water', 'The Gathering Of The Clouds', 'A Thief In The Night', 'The Clouds Burst', 'The Return Journey', 'The Last Stage']\n",
      "[2.2666666666666666, 0.4444444444444444, 2.4, 0.5714285714285714, 0.0, 0.6666666666666666, 1.375, 0.3333333333333333, 0.2, 0.2857142857142857, 0.0, 0.6153846153846154, 0.0, 0.0, 1.0, 2.6666666666666665, 0.5714285714285714, 1.6, 1.6]\n",
      "\n",
      "FELLOWSHIP\n",
      "['Concerning Hobbits', 'Concerning Pipeweed', 'Of the Ordering of the Shire', 'Note on the Shire Records', 'A Long-expected Party', 'The Shadow of the Past', 'Three is Company', 'A Short Cut to Mushrooms', 'A Conspiracy Unmasked', 'The Old Forest', 'In the House of Tom Bombadil', 'Fog on the Barrow-downs', 'At the Sign of the Prancing Pony', 'Strider', 'A Knife in the Dark', 'Flight to the Ford', 'Many Meetings', 'The Council of Elrond', 'The Ring goes South', 'A Journey in the Dark', 'The Bridge of Khazad-dûm', 'Lothlórien', 'The Mirror of Galadriel', 'Farewell to Lórien', 'The Great River', 'The Breaking of the Fellowship']\n",
      "[2.0, 4.0, 0.0, 1.0, 2.3333333333333335, 1.4, 1.1764705882352942, 0.8, 2.0, 1.3333333333333333, 2.4, 0.6666666666666666, 2.3636363636363638, 1.8, 0.0, 0.125, 1.5, 0.896551724137931, 1.4736842105263157, 0.2857142857142857, 0.2222222222222222, 0.23529411764705882, 0.6666666666666666, 2.5454545454545454, 0.3076923076923077, 0.18181818181818182]\n",
      "\n",
      "TWO TOWERS\n",
      "['The Departure of Boromir', 'The Riders of Rohan', 'The Uruk-hai', 'Treebeard', 'The White Rider', 'The King of the Golden Hall', \"Helm's Deep\", 'The Road to Isengard', 'Flotsam and Jetsam', 'The Voice of Saruman', 'The Palantír', 'The Taming of Smeagol', 'The Passage of the Marshes', 'The Black Gate is Closed', 'Of Herbs and Stewed Rabbit', 'The Window of the West', 'The Forbidden Pool', 'Journey to the Cross-roads', 'The Stairs to Cirith Ungol', \"Shelob's Lair\", 'The Choices of Master Samwise']\n",
      "[0.0, 0.7, 0.8571428571428571, 2.347826086956522, 0.5, 2.4705882352941178, 0.5714285714285714, 1.5714285714285714, 0.42857142857142855, 1.8823529411764706, 1.0, 0.8, 0.6153846153846154, 1.2, 1.8333333333333333, 1.3333333333333333, 0.8888888888888888, 0.5, 1.1666666666666667, 0.4444444444444444, 0.8571428571428571]\n",
      "\n",
      "RETURN OF THE KING\n",
      "['Minas Tirith', 'The Passing of the Grey Company', 'The Muster of Rohan', 'The Siege of Gondor', 'The Ride of Rohirrim', 'The Battle of the Pelennor Fields', 'The Pyre of Denethor', 'The Houses of Healing', 'The Last Debate', 'The Black Gate Opens', 'The Tower of Cirith Ungol', 'The Land of Shadow', 'Mount Doom', 'The Field of Cormallen', 'The Steward and the King', 'Many Partings', 'Homeward Bound', 'Scouring of the Shire', 'The Grey Havens']\n",
      "[1.9130434782608696, 0.6666666666666666, 1.3333333333333333, 0.7619047619047619, 0.0, 0.0, 0.0, 2.0, 1.7777777777777777, 0.0, 0.47058823529411764, 0.13333333333333333, 0.0, 2.0, 2.4615384615384617, 2.3076923076923075, 1.4285714285714286, 0.7, 2.25]\n"
     ]
    }
   ],
   "source": [
    "for x in range(len(all_polarity_avgs)):\n",
    "    if x == 0:\n",
    "        print(\"\")\n",
    "        print(\"SILM:\")\n",
    "        print(silm_chapter_names)\n",
    "        print(all_polarity_avgs[x])\n",
    "    if x == 1:\n",
    "        print(\"\")\n",
    "        print(\"HOBBIT\")\n",
    "        print(hobbit_chapter_names)\n",
    "        print(all_polarity_avgs[x])\n",
    "    if x == 2:\n",
    "        print(\"\")\n",
    "        print(\"FELLOWSHIP\")\n",
    "        print(fellowship_chapter_names)\n",
    "        print(all_polarity_avgs[x])\n",
    "    if x == 3:\n",
    "        print(\"\")\n",
    "        print(\"TWO TOWERS\")\n",
    "        print(twotowers_chapter_names)\n",
    "        print(all_polarity_avgs[x])\n",
    "    if x == 4:\n",
    "        print(\"\")\n",
    "        print(\"RETURN OF THE KING\")\n",
    "        print(return_chapter_names)\n",
    "        print(all_polarity_avgs[x])\n",
    "        "
   ]
  },
  {
   "cell_type": "code",
   "execution_count": 23,
   "metadata": {},
   "outputs": [
    {
     "data": {
      "text/plain": [
       "'\\n# Export to Excel\\npd.read_excel(\\'file.xlsx\\')\\nfull_df.to_csv(\"full_df.csv\")\\npd.to_excel(\\'dir/myDataFrame.xlsx\\', sheet_name=\\'Sheet1\\')\\n'"
      ]
     },
     "execution_count": 23,
     "metadata": {},
     "output_type": "execute_result"
    }
   ],
   "source": [
    "# Converting AVG data into pandas dataframes\n",
    "\n",
    "silm_df = pd.DataFrame(silm_polarity_avg, index = silm_chapter_names, columns = [\"Polarity\"])\n",
    "silm_df = silm_df.rename_axis(\"--- The Silmarillion ---\")\n",
    "#silm_df.to_csv(\"silm_df.csv\")\n",
    "\n",
    "hobbit_df = pd.DataFrame(hobbit_polarity_avg, index = hobbit_chapter_names, columns = [\"Polarity\"])\n",
    "hobbit_df = hobbit_df.rename_axis(\"--- The Hobbit ---\")\n",
    "#hobbit_df.to_csv(\"hobbit_df.csv\")\n",
    "\n",
    "fellowship_df = pd.DataFrame(fellowship_polarity_avg, index = fellowship_chapter_names, columns = [\"Polarity\"])\n",
    "fellowship_df = fellowship_df.rename_axis(\"--- The Fellowship of the Ring ---\")\n",
    "# Prologue chapters have weird polarities - have solid values because they're shorter\n",
    "#fellowship_df.to_csv(\"fellowship_df.csv\")\n",
    "\n",
    "twotowers_df = pd.DataFrame(twotowers_polarity_avg, index = twotowers_chapter_names, columns = [\"Polarity\"])\n",
    "twotowers_df = twotowers_df.rename_axis(\"--- The Two Towers ---\")\n",
    "#twotowers_df.to_csv(\"twotowers_df.csv\")\n",
    "\n",
    "return_df = pd.DataFrame(return_polarity_avg, index = return_chapter_names, columns = [\"Polarity\"])\n",
    "return_df = return_df.rename_axis(\"--- The Return of the King ---\")\n",
    "#return_df.to_csv(\"return_df.csv\")\n",
    "# Really dark novel\n",
    "\n",
    "# Dataframe of all Books overlaid\n",
    "books_df = [silm_df, hobbit_df, fellowship_df, twotowers_df, return_df]\n",
    "#full_df = pd.concat(books_df)\n",
    "\n",
    "# Export to CSV\n",
    "#full_df.to_csv(\"full_df.csv\")\n",
    "\n",
    "\"\"\"\n",
    "# Export to Excel\n",
    "pd.read_excel('file.xlsx')\n",
    "full_df.to_csv(\"full_df.csv\")\n",
    "pd.to_excel('dir/myDataFrame.xlsx', sheet_name='Sheet1')\n",
    "\"\"\"\n",
    "\n",
    "# Add another column for topic, once topic modeling is complete"
   ]
  },
  {
   "cell_type": "code",
   "execution_count": 55,
   "metadata": {},
   "outputs": [
    {
     "name": "stdout",
     "output_type": "stream",
     "text": [
      "cool\n",
      "0\n",
      "1\n",
      "2\n",
      "3\n",
      "4\n",
      "{'pippin': 67, 'roused': 1, 'gandalf': 54, 'candles': 1, 'lit': 2, 'chamber': 11, 'dim': 9, 'twilight': 2, 'came': 37, 'windows': 3, 'air': 9, 'heavy': 5, 'approaching': 2, 'thunder': 4, '’': 24, 'what': 4, 'time': 14, 'said': 96, 'yawning': 1, 'past': 2, 'second': 3, 'hour': 7, \"'time\": 1, 'get': 4, 'make': 8, 'presentable': 1, 'you': 5, 'summoned': 2, 'lord': 44, 'city': 40, 'learn': 4, 'new': 6, 'duties': 3, \"'and\": 9, 'provide': 1, 'breakfast': 1, \"'no\": 3, 'i': 101, 'provided': 2, 'till': 3, 'noon': 1, 'food': 4, 'doled': 1, 'order': 2, 'looked': 18, 'ruefully': 1, 'small': 11, 'loaf': 1, 'thought': 12, 'inadequate': 1, 'pat': 1, 'butter': 1, 'set': 9, 'beside': 9, 'cup': 2, 'thin': 1, 'milk': 1, \"'why\": 4, 'bring': 3, \"'you\": 9, 'know': 8, 'quite': 2, 'well': 12, \"'to\": 3, 'keep': 5, 'mischief': 1, 'like': 23, 'remember': 5, 'brought': 11, 'before': 1, 'long': 27, 'walking': 2, 'cold': 4, 'corridor': 1, 'door': 9, 'tower': 16, 'hall': 2, 'there': 12, 'denethor': 49, 'sat': 12, 'grey': 7, 'gloom': 8, 'old': 14, 'patient': 1, 'spider': 1, 'seem': 2, 'moved': 3, 'since': 8, 'day': 14, 'he': 43, 'beckoned': 1, 'seat': 3, 'left': 14, 'standing': 2, 'unheeded': 1, 'presently': 3, 'man': 12, 'turned': 17, \"'well\": 3, 'master': 15, 'peregrin': 4, 'hope': 15, 'used': 4, 'yesterday': 3, 'profit': 1, 'liking': 1, 'though': 13, 'fear': 15, 'board': 1, 'barer': 1, 'could': 26, 'wish': 6, 'uncomfortable': 2, 'feeling': 2, 'done': 7, 'somehow': 1, 'known': 9, 'much': 9, 'guessed': 4, 'answer': 7, \"'what\": 3, 'would': 49, 'service': 4, \"'i\": 16, 'sir': 2, 'tell': 3, 'fit': 2, \"'but\": 14, 'shall': 8, 'soonest': 1, 'maybe': 5, 'the': 55, 'esquire': 1, 'begged': 1, 'leave': 8, 'go': 20, 'out-garrison': 1, 'take': 4, 'place': 8, 'wait': 6, 'bear': 2, 'errands': 2, 'talk': 1, 'war': 11, 'council': 4, 'leisure': 1, 'can': 1, 'sing': 4, 'yes': 3, 'enough': 4, 'people': 6, 'but': 42, 'songs': 4, 'great': 45, 'halls': 3, 'evil': 5, 'times': 5, 'we': 4, 'seldom': 1, 'anything': 1, 'terrible': 1, 'wind': 4, 'rain': 1, 'and': 50, 'things': 9, 'us': 19, 'laugh': 1, 'drink': 3, 'course': 1, 'unfit': 1, 'hours': 4, 'lived': 3, 'shadow': 13, 'may': 21, 'surely': 3, 'listen': 3, 'echoes': 1, 'land': 8, 'untroubled': 1, 'then': 16, 'feel': 3, 'vigil': 1, 'fruitless': 1, 'thankless': 1, \"'s\": 28, 'heart': 11, 'sank': 3, 'relish': 1, 'idea': 1, 'singing': 1, 'song': 1, 'shire': 2, 'minas': 6, 'tirith': 5, 'certainly': 1, 'comic': 1, 'ones': 1, 'knew': 7, 'best': 4, 'rustic': 1, 'occasion': 2, 'however': 2, 'spared': 4, 'ordeal': 1, 'present': 2, 'commanded': 2, 'asking': 2, 'questions': 1, 'rohirrim': 4, 'policies': 1, 'position': 1, 'jomer': 1, 'king': 3, 'nephew': 1, 'marvelled': 1, 'amount': 1, 'seemed': 14, 'far': 17, 'away': 21, 'must': 18, 'many': 27, 'years': 4, 'ridden': 3, 'abroad': 2, 'waved': 1, 'dismissed': 1, \"'go\": 3, 'armouries': 1, 'citadel': 11, 'livery': 3, 'gear': 2, 'it': 27, 'ready': 2, 'return': 7, 'clad': 4, 'soon': 12, 'found': 7, 'arrayed': 1, 'strange': 4, 'garments': 1, 'black': 19, 'silver': 6, 'hauberk': 2, 'rings': 1, 'forged': 1, 'steel': 5, 'yet': 41, 'jet': 1, 'high-crowned': 1, 'helm': 2, 'raven-wings': 1, 'either': 5, 'side': 9, 'star': 2, 'centre': 1, 'circlet': 1, 'above': 1, 'mail': 3, 'short': 2, 'surcoat': 1, 'broidered': 1, 'breast': 1, 'token': 3, 'tree': 3, 'his': 5, 'clothes': 1, 'folded': 2, 'put': 6, 'permitted': 1, 'cloak': 4, 'lurien': 1, 'wear': 2, 'duty': 4, 'verily': 1, 'ernil': 1, 'pheriannath': 1, 'prince': 7, 'halflings': 2, 'folk': 5, 'called': 3, 'felt': 4, 'began': 4, 'weigh': 1, 'spirits': 1, 'dark': 22, 'from': 2, 'sunless': 1, 'dawn': 2, 'evening': 2, 'deepened': 1, 'hearts': 6, 'oppressed': 1, 'cloud': 3, 'streamed': 1, 'slowly': 10, 'westward': 3, 'devouring': 1, 'light': 8, 'borne': 1, 'upon': 35, 'still': 29, 'breathless': 1, 'vale': 4, 'anduin': 3, 'waited': 2, 'onset': 2, 'ruinous': 3, 'storm': 1, 'about': 1, 'eleventh': 1, 'released': 4, 'last': 22, 'went': 15, 'search': 1, 'cheer': 2, 'task': 1, 'waiting': 5, 'supportable': 1, 'in': 10, 'messes': 1, 'met': 2, 'beregond': 17, 'come': 39, 'errand': 3, 'pelennor': 10, 'guard-towers': 1, 'causeway': 3, 'together': 3, 'strolled': 1, 'walls': 23, 'imprisoned': 1, 'indoors': 1, 'stifled': 1, 'even': 22, 'lofty': 1, 'now': 10, 'embrasure': 1, 'looking': 3, 'eastward': 4, 'eaten': 1, 'talked': 2, 'sunset-hour': 1, 'pall': 1, 'stretched': 2, 'west': 3, 'sea': 1, 'sun': 2, 'escape': 1, 'send': 5, 'brief': 2, 'farewell': 6, 'gleam': 2, 'night': 12, 'frodo': 6, 'saw': 11, 'cross-roads': 1, 'touching': 1, 'head': 12, 'fallen': 8, 'fields': 7, 'mindolluin': 4, 'brown': 3, 'drear': 1, 'already': 11, 'half-forgotten': 1, 'hobbit': 2, 'light-hearted': 1, 'wanderer': 3, 'touched': 2, 'little': 13, 'perils': 1, 'passed': 18, 'one': 26, 'soldier': 1, 'preparing': 1, 'assault': 5, 'proud': 3, 'sombre': 2, 'manner': 3, 'guard': 6, 'might': 10, 'pleased': 1, 'array': 1, 'taking': 4, 'part': 5, 'play': 1, 'deadly': 4, 'earnest': 1, 'servant': 2, 'grim': 3, 'greatest': 2, 'peril': 3, 'burdensome': 1, 'weighed': 2, 'cast': 4, 'aside': 3, 'tired': 2, 'gaze': 1, 'darkling': 1, 'yawned': 1, 'sighed': 4, 'weary': 5, \"'yes\": 5, 'idleness': 1, 'kicked': 1, 'heels': 2, 'slow': 4, 'debated': 1, 'persons': 1, \"'m\": 1, 'hungry': 1, 'others': 13, 'eat': 1, 'sore': 1, 'trial': 3, 'no': 8, 'doubt': 2, 'think': 10, 'honour': 2, 'deeply': 1, 'good': 6, 'indeed': 8, 'creeping': 1, 'mean': 3, 'seems': 4, 'thick': 3, 'do': 4, 'often': 4, 'glooms': 1, 'east': 7, \"'nay\": 5, \"'this\": 1, 'weather': 1, 'world': 2, 'this': 2, 'device': 1, 'malice': 3, 'broil': 1, 'fume': 1, 'mountain': 2, 'fire': 13, 'sends': 1, 'darken': 1, 'counsel': 5, 'doth': 1, 'faramir': 62, 'fie': 2, 'dismayed': 1, 'knows': 1, 'ever': 16, 'back': 17, 'across': 9, 'river': 10, 'darkness': 7, \"'gandalf\": 2, 'anxious': 1, 'disappointed': 1, 'find': 6, 'got': 2, 'noon-meal': 1, 'mood': 2, 'perhaps': 5, 'foreboding': 2, 'bad': 1, 'news': 7, 'suddenly': 11, 'stricken': 5, 'dumb': 1, 'frozen': 1, 'listening': 1, 'stones': 1, 'cowered': 1, 'hands': 7, 'pressed': 3, 'ears': 2, 'battlement': 2, 'spoke': 9, 'remained': 3, 'stiffened': 1, 'staring': 2, 'starting': 2, 'eyes': 11, 'shuddering': 2, 'cry': 7, 'heard': 13, 'ago': 8, 'marish': 1, 'grown': 2, 'power': 6, 'hatred': 1, 'piercing': 2, 'poisonous': 1, 'despair': 5, 'at': 15, 'effort': 1, \"'they\": 7, \"'take\": 1, 'courage': 2, 'look': 6, 'fell': 9, 'reluctantly': 1, 'climbed': 1, 'wall': 13, 'lay': 11, 'beneath': 6, 'fading': 1, 'scarce': 1, 'line': 4, 'wheeling': 1, 'swiftly': 6, 'shadows': 11, 'untimely': 1, 'middle': 4, 'airs': 1, 'five': 5, 'birdlike': 1, 'forms': 1, 'horrible': 2, 'carrion-fowl': 1, 'greater': 2, 'eagles': 1, 'cruel': 2, 'death': 11, 'swooped': 1, 'near': 6, 'venturing': 1, 'almost': 4, 'within': 5, 'bowshot': 2, 'circled': 2, \"'black\": 2, 'riders': 5, 'muttered': 3, 'see': 16, 'cried': 17, 'something': 5, 'wheel': 1, 'swoop': 1, 'always': 2, 'point': 3, 'moving': 2, 'ground': 5, 'men': 56, 'horses': 4, 'four': 3, 'ah': 3, 'stand': 6, 'save': 8, 'another': 5, 'screech': 1, 'rose': 5, 'threw': 2, 'panting': 1, 'hunted': 2, 'animal': 1, 'faint': 2, 'seemingly': 1, 'remote': 2, 'winding': 5, 'sound': 1, 'trumpet': 3, 'ending': 2, 'high': 10, 'note': 2, \"'faramir\": 5, 'call': 1, \"'brave\": 1, 'win': 1, 'gate': 25, 'foul': 4, 'hell': 1, '-hawks': 1, 'weapons': 4, 'they': 13, 'hold': 5, 'running': 5, 'mad': 2, 'thrown': 2, 'foot': 2, 'rides': 1, 'that': 4, 'captain': 14, 'beasts': 4, 'stooping': 2, 'help': 3, 'will': 2, 'with': 4, 'sprang': 4, 'ran': 6, 'ashamed': 1, 'terror': 6, 'first': 14, 'loved': 2, 'peered': 1, 'moment': 8, 'caught': 2, 'flash': 3, 'white': 14, 'coming': 5, 'north': 8, 'dusky': 1, 'speed': 2, 'arrow': 2, 'grew': 6, 'converging': 2, 'flight': 1, 'towards': 8, 'pale': 6, 'spread': 2, 'gave': 6, 'way': 12, 'drew': 4, 'echo': 1, 'voice': 7, 'calling': 1, 'turns': 1, 'darkest': 1, 'rider': 5, 'shouted': 2, 'wildly': 4, 'onlooker': 1, 'race': 5, 'urging': 1, 'runner': 1, 'beyond': 7, 'encouragement': 1, 'swooping': 1, 'aware': 2, 'newcomer': 1, 'wheeled': 1, 'raised': 1, 'hand': 13, 'shaft': 1, 'stabbed': 1, 'upwards': 1, 'nazgyl': 8, 'wailing': 1, 'swerved': 2, 'wavered': 1, 'rising': 1, 'swift': 2, 'spirals': 1, 'vanishing': 1, 'lowering': 1, 'less': 11, 'watched': 4, 'horseman': 2, 'meet': 2, 'halt': 1, 'hurried': 2, 'sight': 3, 'outer': 6, 'entering': 1, 'guessing': 1, 'steward': 2, 'entrance': 1, 'joined': 2, 'rescue': 1, 'clamour': 2, 'streets': 4, 'leading': 1, 'circles': 1, 'cheering': 1, 'crying': 4, 'names': 1, 'mithrandir': 7, 'torches': 4, 'followed': 2, 'press': 2, 'two': 7, 'horsemen': 5, 'riding': 2, 'shining': 3, 'longer': 4, 'spent': 1, 'veiled': 1, 'bowed': 3, 'dismounted': 1, 'grooms': 1, 'took': 5, 'shadowfax': 4, 'horse': 2, 'walked': 6, 'forward': 8, 'sentinel': 3, 'steadily': 2, 'flung': 2, 'smouldering': 1, 'green': 2, 'swaying': 2, 'wounded': 3, 'lamp': 1, 'gate-arch': 1, 'face': 10, 'breath': 2, 'assailed': 1, 'anguish': 2, 'mastered': 1, 'quiet': 2, 'grave': 1, 'stood': 14, 'gazing': 1, 'closely': 1, 'resembled': 1, 'brother': 2, 'boromir': 9, '-': 5, 'liked': 1, 'admiring': 1, 'lordly': 2, 'kindly': 1, 'strangely': 2, 'flere': 1, 'nobility': 1, 'aragorn': 2, 'revealed': 1, 'also': 4, 'incalculable': 1, 'kings': 4, 'born': 1, 'later': 1, 'wisdom': 5, 'sadness': 1, 'elder': 1, 'name': 2, 'love': 1, 'follow': 6, 'wings': 1, 'aloud': 4, 'catching': 1, 'among': 4, 'amazed': 1, \"'whence\": 1, \"'a\": 1, 'halfling': 5, 'whence': 1, '...': 1, 'stepped': 1, \"'he\": 3, 'let': 8, 'tarry': 1, 'say': 6, 'forget': 2, 'easily': 1, 'attend': 1, 'so': 6, 'length': 8, 'private': 1, 'deep': 6, 'seats': 1, 'brazier': 1, 'charcoal': 1, 'wine': 2, 'hardly': 1, 'noticed': 1, 'behind': 11, 'chair': 5, 'weariness': 1, 'eagerly': 1, 'when': 3, 'taken': 6, 'bread': 1, 'drunk': 1, 'draught': 1, 'low': 4, 'father': 14, 'removed': 1, 'carven': 2, 'wood': 3, 'asleep': 1, 'for': 15, 'beginning': 1, 'sent': 6, 'ten': 3, 'days': 9, 'tidings': 3, 'ithilien': 4, 'movements': 1, 'enemy': 22, 'allies': 1, 'told': 8, 'fight': 2, 'road': 7, 'harad': 3, 'beast': 3, 'overthrown': 3, 'reporting': 1, 'matters': 3, 'border-war': 1, 'useless': 1, 'petty': 1, 'shorn': 1, 'renown': 1, \"'for\": 4, 'seen': 9, 'northern': 1, 'legends': 1, 'southlands': 1, 'gripped': 1, 'arms': 6, 'nothing': 5, 'stopped': 2, 'exclamation': 1, 'lips': 1, 'faces': 1, 'nodded': 1, 'sign': 2, 'read': 1, 'spoken': 4, 'silent': 8, 'tale': 1, 'glance': 1, 'strayed': 1, 'refresh': 1, 'memory': 3, 'as': 6, 'story': 1, 'unfolded': 1, 'meeting': 1, 'events': 1, 'henneth': 1, 'annyn': 1, 'became': 6, 'trembling': 1, 'clutched': 1, 'thrill': 1, 'troubled': 2, 'afraid': 1, 'room': 2, 'close': 1, 'parting': 1, 'travellers': 2, 'resolve': 1, 'cirith': 3, 'ungol': 5, 'shook': 3, \"'cirith\": 2, 'morgul': 4, \"'the\": 11, 'reach': 2, 'accursed': 2, 'valley': 1, 'parted': 2, 'morning': 8, \"'it\": 4, 'fifteen': 1, 'leagues': 4, 'thence': 2, 'morgulduin': 1, 'straight': 1, 'south': 7, 'swiftest': 1, 'today': 1, 'due': 1, 'venture': 1, 'yestereve': 2, 'clear': 3, 'planned': 1, 'determined': 2, 'keeping': 3, 'paced': 3, 'floor': 1, 'nigh': 2, 'three': 2, 'journey': 1, 'how': 2, 'some': 1, 'twenty-five': 1, 'bird': 1, 'flies': 1, 'answered': 7, 'cair': 4, 'andros': 6, 'isle': 2, 'northward': 4, 'defence': 4, 'kept': 5, 'hither': 3, 'bank': 1, 'haste': 4, 'needed': 3, 'rode': 9, 'horsed': 1, 'rest': 5, 'company': 6, 'strengthen': 2, 'garrison': 4, 'fords': 3, 'osgiliath': 9, 'ill': 3, \"'111\": 1, 'flashed': 2, 'ask': 3, 'command': 5, 'or': 4, 'judgement': 3, 'deeds': 3, 'your': 4, 'bearing': 5, 'lowly': 1, 'presence': 1, 'skilfully': 1, 'eye': 6, 'fixed': 1, 'seeking': 1, 'whether': 1, \"'my\": 1, 'son': 11, 'dotard': 1, 'hear': 2, 'wont': 2, 'half': 1, 'unsaid': 1, 'hidden': 6, 'riddles': 1, 'alas': 2, \"'if\": 4, 'displeases': 1, 'quietly': 1, 'burden': 2, 'weighty': 1, 'thrust': 2, \"'would\": 1, 'availed': 1, 'change': 1, 'deem': 4, 'desire': 1, 'appear': 1, 'generous': 1, 'gracious': 1, 'gentle': 1, 'befit': 1, 'sits': 1, 'peace': 2, 'desperate': 3, 'gentleness': 1, 'repaid': 1, \"'so\": 2, 'protect': 1, 'gone': 7, \"'do\": 4, \"'that\": 5, 'places': 6, 'exchanged': 1, 'loyal': 1, 'wizard': 1, 'pupil': 1, 'remembered': 1, 'need': 5, 'squandered': 1, 'fortune': 1, 'mighty': 2, 'gift': 2, 'restraint': 1, 'on': 3, 'least': 2, 'prevailed': 1, \"'stir\": 1, 'bitterness': 2, 'mixed': 1, \"'have\": 1, 'tasted': 1, 'nights': 1, 'tongue': 2, 'worse': 2, 'dregs': 1, 'thing': 10, \"'comfort\": 2, \"'in\": 1, 'case': 1, 'dead': 9, 'died': 2, 'sleep': 3, 'deceive': 1, 'returned': 4, 'hard': 3, 'apt': 1, 'softly': 4, 'wise': 3, 'subtleties': 1, 'counsels': 2, 'neither': 1, 'webs': 1, 'wizards': 2, 'fools': 2, 'matter': 1, 'lore': 1, \"'enough\": 1, 'perceive': 1, 'follies': 1, 'avoid': 1, 'to': 4, 'use': 3, 'perilous': 2, 'witless': 2, 'mine': 1, 'madness': 3, \"'neither\": 1, 'argument': 1, 'hazard': 1, 'fool': 7, 'risking': 1, 'utter': 1, 'ruin': 3, 'recover': 1, 'lost': 2, 'nay': 4, 'not': 3, 'unless': 2, 'uttermost': 1, 'end': 5, 'grasp': 1, 'victory': 1, 'final': 1, 'befell': 1, 'trouble': 2, 'gondor': 9, \"'yet\": 4, 'lives': 2, 'pity': 1, 'slaves': 2, 'falls': 1, 'vaults': 1, 'shake': 1, 'dread': 4, 'fearing': 3, 'worst': 1, 'undisturbed': 1, 'if': 2, 'trust': 4, 'endure': 1, 'test': 2, \"'nonetheless\": 1, \"'had\": 1, 'hearing': 2, 'speak': 7, 'stay': 5, 'wrath': 3, 'refused': 1, 'freely': 1, 'given': 4, 'strong': 7, 'govern': 2, 'received': 1, 'were': 1, 'buried': 1, 'roots': 1, 'burn': 7, 'mind': 3, 'grows': 1, 'glowed': 1, 'faced': 1, 'strain': 2, 'wills': 1, 'glances': 1, 'blades': 1, 'flickering': 1, 'fenced': 1, 'trembled': 3, 'dreadful': 4, 'stroke': 4, 'relaxed': 1, 'shrugged': 1, 'shoulders': 2, \"'such\": 1, 'words': 5, 'ifs': 1, 'vain': 3, 'show': 1, 'doom': 3, 'awaits': 3, 'fashion': 1, 'hardihood': 1, 'die': 3, 'free': 3, \"'not\": 4, 'blow': 1, 'fall': 4, 'stout': 2, \"'there\": 2, 'elsewhere': 1, \"'alas\": 1, \"'may\": 1, 'swayed': 1, 'leaned': 1, 'fast': 1, \"'let\": 1, \"'then\": 4, 'tomorrow': 1, 'sterner': 1, 'all': 7, 'outside': 4, 'starless': 1, 'blackness': 2, 'torch': 2, 'made': 5, 'lodging': 1, 'closed': 4, 'doors': 3, \"'is\": 2, 'mostly': 1, 'never': 1, \"'just\": 2, 'broke': 4, 'strode': 2, 'window': 1, 'pierce': 2, 'wonder': 4, 'failed': 5, 'truth': 2, 'believe': 1, 'brings': 1, 'opened': 1, 'move': 2, 'afar': 1, 'begun': 1, 'sooner': 2, 'happened': 1, 'stir': 1, \"'maybe\": 2, 'foolishness': 1, 'helped': 1, 'lad': 1, 'discover': 1, 'saruman': 1, 'stone': 5, 'purpose': 3, 'without': 3, 'knowing': 1, 'draws': 1, 'stern': 2, 'underneath': 1, 'bold': 1, 'able': 1, 'dare': 1, 'risks': 1, 'shown': 1, 'challenging': 1, 'rohan': 9, 'late': 3, 'ahead': 1, \"'only\": 1, 'allow': 1, 'tonight': 2, \"'gollum\": 1, \"'how\": 1, 'earth': 4, 'going': 1, 'following': 1, 'wrong': 1, 'gollum': 1, 'treachery': 3, 'miserable': 1, 'creature': 1, 'traitor': 1, 'betray': 1, 'intend': 1, 'sometimes': 1, 'next': 2, 'dusk': 1, 'lifted': 2, 'winged': 3, 'anon': 2, 'passing': 1, 'stout-hearted': 2, 'quailed': 1, 'wept': 2, 'give': 1, 'murmured': 2, 'drives': 1, \"'where\": 2, 'choosing': 1, 'bow': 3, 'early': 1, 'captains': 2, 'judged': 1, 'threat': 1, 'force': 4, 'weak': 1, 'perchance': 1, 'meanwhile': 1, \"'we\": 2, 'lightly': 1, 'abandon': 1, 'defences': 1, 'rammas': 4, 'labour': 2, 'pay': 2, 'dearly': 2, 'crossing': 3, 'assail': 1, 'marshes': 1, 'southwards': 1, 'lebennin': 1, 'breadth': 1, 'needs': 2, 'boats': 1, 'weight': 2, 'denied': 1, 'passage': 4, \"'today\": 1, 'loss': 2, 'rue': 1, 'exchange': 1, 'afford': 1, 'lose': 2, 'host': 5, 'better': 2, 'retreat': 10, 'afield': 1, 'wins': 2, 'held': 6, 'defended': 1, 'danger': 1, 'strength': 6, 'drawing': 3, 'more': 2, 'issue': 1, 'strike': 1, \"'much\": 1, 'risked': 1, \"'cair\": 1, 'manned': 1, 'yield': 1, 'unfought': 1, 'oppose': 1, 'sire': 1, 'robbed': 1, 'stead': 1, 'depends': 1, 'ere': 6, 'throw': 3, 'live': 4, 'rashly': 1, 'loves': 1, 'forth': 6, 'willing': 1, 'gazed': 2, 'ruined': 1, 'wondered': 1, 'chanced': 2, 'counted': 1, 'thjoden': 1, \"'will\": 1, 'alliance': 1, \"'even\": 1, 'comes': 2, 'red': 9, 'reached': 5, 'miles': 1, 'edoras': 1, 'a': 6, 'saying': 3, 'issued': 1, 'regiments': 1, 'haradrim': 1, 'tall': 3, 'learned': 1, 'messenger': 2, 'leads': 1, 'ill-boding': 1, 'third': 2, 'few': 2, 'full': 1, 'deeper': 1, 'heavier': 1, 'retreating': 1, 'rallying': 1, 'forts': 2, 'outnumbered': 1, 'enemies': 1, 'paid': 2, 'dear': 1, 'hoped': 1, 'plan': 1, 'laid': 2, 'secret': 3, 'building': 1, 'floats': 1, 'barges': 1, 'numbers': 2, 'swarmed': 2, 'beetles': 1, 'defeats': 1, 'abide': 1, 'rumour': 3, 'quail': 1, 'slay': 1, 'bidding': 1, 'glimmer': 1, 'faded': 1, 'alone': 3, 'sleepless': 1, 'bells': 1, 'scarcely': 3, 'rung': 1, 'mockery': 1, 'unlightened': 1, 'fires': 9, 'spring': 1, 'spaces': 1, 'watchmen': 2, 'dull': 2, 'rumbles': 1, 'blasting': 2, 'breaches': 2, 'dismay': 2, \"'say\": 1, 'handful': 1, 'escort': 1, 'wains': 2, 'filled': 3, 'saved': 2, 'wreck': 2, 'ford': 2, 'bent': 1, 'ringed': 1, 'round': 2, 'most': 1, 'pause': 1, 'whiles': 1, 'ancient': 2, 'art': 3, 'hoofs': 1, 'plains': 1, 'asked': 2, 'resolved': 1, 'rearguard': 2, 'lest': 1, 'become': 1, 'rout': 2, 'pitted': 1, 'foe': 5, 'feared': 1, 'forgetting': 1, 'laughed': 2, 'bitterly': 1, 'triumph': 1, 'uses': 1, 'lords': 2, 'sit': 1, 'watch': 1, 'spending': 1, 'sons': 1, 'wield': 2, 'brand': 1, 'open': 1, 'behold': 2, 'girt': 1, 'sword': 3, 'great-hilted': 1, 'sheath': 1, \"'thus\": 1, 'thus': 2, 'slept': 1, \"'lest\": 1, 'age': 1, 'body': 2, 'grow': 1, 'soft': 1, 'timid': 1, 'barad-dyr': 1, \"'king\": 1, 'angmar': 1, 'sorcerer': 1, 'ringwraith': 1, 'spear': 1, 'sauron': 1, 'match': 1, 'chief': 1, 'hosts': 3, 'is': 1, 'withdrawn': 1, 'overmatched': 1, 'stung': 1, 'sudden': 1, 'needless': 2, 'true': 2, 'rules': 1, 'rather': 2, 'according': 1, 'rear': 2, 'driving': 1, 'hurt': 1, 'healed': 1, 'breached': 1, 'wide': 4, 'enter': 4, 'points': 2, 'chiefly': 1, 'battle': 4, 'sortie': 3, 'mounted': 4, 'lies': 2, 'poorly': 1, 'nick': 1, 'likely': 2, 'newcomers': 1, \"'fugitives\": 1, 'army': 1, 'north-east': 1, \"'some\": 1, 'accused': 1, 'delighting': 1, 'mw': 1, 'nightfall': 1, 'watchers': 2, 'out-companies': 3, 'bands': 1, 'pursued': 1, 'distant': 2, 'flickered': 2, 'crept': 1, 'plain': 3, 'houses': 3, 'barns': 1, 'burning': 6, 'rivers': 1, 'flame': 2, 'hurrying': 2, 'broad': 3, 'led': 2, 'city-gate': 1, 'dike': 1, 'here': 2, 'pouring': 1, 'carry': 2, 'where': 1, 'far-sighted': 1, 'discern': 1, 'clearly': 1, 'burnings': 1, 'multiplied': 1, 'lines': 4, 'mile': 1, 'ordered': 2, 'mass': 1, 'view': 1, 'marching': 3, 'holding': 1, 'main': 2, 'furlongs': 1, 'out': 4, 'galloped': 1, 'once': 1, 'bay': 3, 'facing': 1, 'oncoming': 1, 'tumult': 1, 'fierce': 1, 'cries': 1, 'swept': 2, 'flowing': 2, 'torrents': 1, 'file': 2, 'ores': 6, 'flames': 3, 'wild': 3, 'southron': 1, 'banners': 1, 'shouting': 1, 'harsh': 2, 'tongues': 2, 'surging': 1, 'overtaking': 1, 'sky': 2, 'kill': 1, 'breaking': 1, 'flying': 5, 'flinging': 2, 'falling': 1, 'rang': 2, 'drawn': 1, 'looming': 2, 'signal': 1, 'formed': 1, 'quickened': 1, 'gallop': 1, 'charged': 1, 'shout': 2, 'answering': 1, 'foremost': 1, 'field': 5, 'swan-knights': 1, 'dol': 5, 'amroth': 6, 'blue': 1, 'banner': 2, \"'amroth\": 1, 'flank': 1, 'outran': 1, 'grass': 1, 'bore': 5, 'unveiled': 1, 'upraised': 1, 'screeched': 1, 'challenge': 1, 'intent': 1, 'prey': 1, 'unawares': 1, 'career': 1, 'scattering': 1, 'sparks': 1, 'gale': 1, 'smote': 1, 'pursuers': 1, 'hunters': 1, 'onslaught': 1, 'strewn': 1, 'reek': 1, 'arose': 1, 'sputtering': 1, 'swirling': 1, 'smoke': 1, 'cavalry': 2, 'permit': 2, 'checked': 1, 'driven': 2, 'forces': 1, 'again': 1, 'sounding': 1, 'halted': 4, 'screen': 1, 're-formed': 1, 'entered': 2, 'stepping': 2, 'proudly': 3, 'praise': 1, 'companies': 4, 'grievously': 1, 'reduced': 1, 'knights': 3, 'kinsman': 1, 'weeping': 1, 'dart': 3, 'champion': 1, 'only': 1, 'charge': 1, 'southland': 1, 'swords': 1, 'hewed': 1, 'imrahil': 1, 'bade': 2, 'bed': 5, 'depart': 1, 'summit': 1, 'thither': 1, 'gleamed': 1, 'narrow': 2, 'descended': 2, 'speaking': 2, 'deathlike': 1, 'besieged': 1, 'enclosed': 1, 'ring': 2, 'foes': 2, 'broken': 2, 'abandoned': 1, 'word': 3, 'shut': 3, 'remnant': 2, 'anurien': 2, 'townlands': 1, 'ingold': 1, 'admitted': 1, 'avail': 1, 'battalions': 1, 'countless': 1, 'sort': 1, 'bearded': 1, 'dwarves': 1, 'wielding': 1, 'axes': 1, 'savage': 1, 'roamed': 1, 'hewing': 1, 'living': 1, 'stole': 1, 'over-counted': 1, 'mirk': 1, 'sprouted': 1, 'fungus-growth': 1, 'beleaguered': 1, 'camps': 1, 'tents': 1, 'busy': 3, 'ants': 1, 'digging': 2, 'trenches': 3, 'huge': 5, 'kindled': 1, 'fed': 1, 'devilry': 1, 'none': 2, 'unable': 1, 'hinder': 1, 'trench': 2, 'completed': 1, 'setting': 1, 'cover': 1, 'engines': 4, 'casting': 1, 'missiles': 2, 'large': 1, 'work': 1, 'greatly': 2, 'devices': 1, 'height': 1, 'marvellous': 1, 'thickness': 1, 'built': 2, 'craft': 1, 'n®menor': 1, 'waned': 1, 'exile': 1, 'outward': 1, 'orthanc': 1, 'smooth': 1, 'unconquerable': 1, 'unbreakable': 1, 'except': 1, 'convulsion': 1, 'rend': 2, 'nameless': 1, \"'while\": 1, 'weapon': 2, 'hunger': 2, 'roads': 1, 'cut': 2, 'waste': 1, 'shot': 4, 'indomitable': 2, 'brigand': 1, 'ore-chieftain': 1, 'mordor': 3, 'guided': 1, 'catapults': 1, 'yells': 1, 'creaking': 1, 'rope': 1, 'winch': 1, 'marvellously': 1, 'right': 1, 'thudding': 1, 'circle': 4, 'burst': 2, 'toppling': 1, 'quelling': 1, 'casts': 1, 'hail': 1, 'lanes': 2, 'tumbled': 2, 'heads': 2, 'fighting': 1, 'crushed': 1, 'shapeless': 1, 'cruelly': 1, 'hewn': 1, 'features': 1, 'pain': 1, 'branded': 1, 'lidless': 1, 'marred': 1, 'dishonoured': 1, 'someone': 2, 'tilled': 1, 'holiday': 1, 'vales': 1, 'hills': 3, 'fists': 1, 'pitiless': 1, 'curses': 1, 'heeded': 1, 'understood': 1, 'western': 1, 'voices': 3, 'carrion-birds': 1, 'defy': 1, 'swifter': 1, 'uttered': 1, 'horror': 2, 'vultures': 1, 'expect': 1, 'fill': 1, 'doomed': 1, 'flesh': 1, 'flew': 1, 'rent': 1, 'unbearable': 2, 'fling': 1, 'menace': 2, 'letting': 1, 'nerveless': 1, 'minds': 1, 'hiding': 1, 'crawling': 1, 'during': 1, 'wandering': 1, 'fever': 1, 'dying': 5, 'heed': 2, 'clutches': 1, 'uruk-hai': 1, 'forgotten': 2, 'unlit': 1, 'mastering': 1, 'fears': 2, 'snapped': 1, 'grief': 1, 'wrought': 2, 'remorse': 1, 'tears': 3, 'tearless': 1, 'weep': 1, 'stammered': 1, 'have': 1, 'waxes': 1, 'sees': 1, 'thoughts': 1, 'unthanked': 1, 'unblessed': 1, 'poison': 1, 'veins': 2, 'whatever': 1, 'betide': 1, 'house': 5, 'stewards': 3, 'rule': 1, 'lurking': 1, 'hounded': 1, 'wherever': 1, 'lift': 1, 'pass': 1, 'tirelessly': 1, 'ofn®menor': 1, 'whispered': 1, \"'belike\": 1, 'tales': 1, 'elvish': 1, 'blood': 1, 'nimrodel': 2, 'dwelt': 1, 'amid': 2, 'staves': 1, 'vanished': 1, 'valour': 2, 'withered': 2, 'ash': 1, 'raged': 1, 'unchecked': 1, 'faithful': 1, 'posts': 2, 'fled': 4, 'bridged': 1, 'poured': 1, 'loosed': 1, 'vanguard': 1, 'devious': 1, 'paths': 1, 'reckless': 1, 'approached': 1, 'bunched': 1, 'herded': 1, 'range': 1, 'bowmen': 1, 'damage': 1, 'showed': 1, 'mark': 1, 'archers': 1, 'skill': 1, 'boasted': 1, 'perceiving': 1, 'beaten': 1, 'siege-towers': 2, 'rolled': 5, 'messengers': 2, 'urgent': 2, 'silently': 2, 'commands': 1, 'leaving': 1, 'unmanned': 1, 'why': 1, 'fly': 1, \"'better\": 1, 'bonfire': 1, 'pyre': 2, 'tomb': 2, 'embalmed': 1, 'heathen': 1, 'ship': 1, 'sailed': 1, 'fevered': 2, \"'fie\": 1, 'sadly': 2, 'spirit': 1, 'crumbles': 1, \"'farewell\": 2, 'paladin': 1, 'release': 1, 'remains': 1, 'friend': 1, 'whose': 1, 'folly': 1, 'servants': 4, 'kneeling': 1, 'hobbit-like': 1, 'want': 1, 'despairs': 1, 'life': 3, 'earn': 1, 'six': 1, 'household': 1, 'fair': 1, 'summons': 1, 'warm': 1, 'coverlets': 1, 'lifting': 1, 'bending': 1, 'staff': 1, 'funeral': 2, 'overhanging': 1, 'flickers': 1, 'courtyard': 2, 'water': 1, 'dripping': 1, 'branches': 1, 'pool': 1, 'stared': 1, 'turning': 1, 'rearward': 1, 'sixth': 1, 'fen': 1, 'hollen': 1, 'tombs': 1, 'tended': 1, 'curves': 1, 'precipice': 1, 'mansions': 1, 'porter': 2, 'lantern': 3, 'unlocked': 1, 'swung': 2, 'climbing': 1, '-pillared': 1, 'balusters': 1, 'lantern-beam': 1, 'their': 1, 'feet': 3, 'echoed': 2, 'street': 2, 'rath': 2, 'dnnen': 2, 'domes': 1, 'empty': 1, 'images': 1, 'uneasily': 1, 'vaulted': 1, 'draped': 1, 'shrouded': 1, 'dimly': 2, 'rows': 1, 'tables': 1, 'carved': 1, 'marble': 1, 'table': 2, 'sleeping': 1, 'form': 1, 'pillowed': 1, 'bare': 1, 'covered': 1, 'covering': 1, 'mourners': 1, \"'here\": 1, 'embalmers': 1, 'quick': 1, 'pour': 1, 'oil': 1, 'bid': 1, \"'by\": 1, 'deathly': 1, \"'poor\": 1, 'poor': 1, 'medicine': 1, 'oh': 1, 'suppose': 1, 'spare': 1, 'madmen': 1, \"'your\": 1, \"'who\": 1, 'sped': 1, 'astonished': 1, 'hailed': 1, 'recognized': 1, \"'whither\": 1, 'run': 2, 'hindered': 1, 'quickly': 2, 'goes': 1, 'whither': 1, 'hide': 1, 'prevented': 1, 'fey': 1, 'dangerous': 1, 'stop': 1, 'happening': 1, 'post': 1, 'cause': 1, 'choose': 1, 'orders': 2, 'madman': 1, 'deal': 1, 'seeing': 1, 'leaped': 2, 'noise': 1, 'shouts': 1, 'din': 1, 'shock': 1, 'echoing': 1, 'boom': 2, 'forcing': 1, 'gust': 1, 'knees': 1, 'corner': 1, 'opening': 1, 'shrank': 1, 'cowering': 1, 'drums': 4, 'fitful': 1, 'mymakil': 1, 'dragging': 1, 'towers': 2, 'cared': 1, 'slain': 3, 'heaviest': 1, 'very': 1, 'iron': 2, 'guarded': 2, 'bastions': 1, 'key': 1, 'weakest': 1, 'impenetrable': 1, 'louder': 1, 'crawled': 3, 'midst': 1, 'ram': 2, 'forest-tree': 1, 'hundred': 1, 'swinging': 1, 'chains': 1, 'forging': 1, 'smithies': 1, 'hideous': 2, 'founded': 1, 'shaped': 1, 'likeness': 1, 'ravening': 1, 'wolf': 1, 'spells': 1, 'grond': 4, 'named': 1, 'hammer': 1, 'underworld': 1, 'surrounded': 1, '-trolls': 1, 'resistance': 1, 'hardiest': 1, 'crashed': 1, 'blazed': 1, 'choked': 1, 'bodies': 2, 'housing': 1, 'catch': 1, 'hauled': 1, 'stamping': 1, 'innumerable': 1, 'path': 1, 'over': 1, 'shape': 2, 'appeared': 1, 'hooded': 1, 'cloaked': 1, 'trampling': 1, 'heeding': 1, 'defender': 1, 'alike': 1, 'drooped': 1, 'sides': 2, 'sang': 1, 'rattled': 1, 'vast': 3, 'rush': 1, 'hurled': 1, 'rumbled': 1, 'clouds': 1, 'withstood': 1, 'stirrups': 1, 'thrice': 2, 'boomed': 1, 'spell': 1, 'asunder': 1, 'searing': 1, 'lightning': 1, 'riven': 1, 'fragments': 1, 'loomed': 1, 'archway': 1, 'space': 1, 'endured': 1, 'unmoving': 1, 'steadfast': 1, 'graven': 1, 'image': 1, 'abyss': 1, 'prepared': 1, 'nothingness': 1, 'hood': 1, 'kingly': 1, 'crown': 1, 'visible': 1, 'shone': 1, 'mantled': 1, 'mouth': 1, 'unseen': 1, 'laughter': 1, 'curse': 1, 'blade': 1, 'cock': 1, 'crowed': 2, 'shrill': 1, 'recking': 1, 'wizardry': 1, 'welcoming': 1, 'horns': 4, 'blowing': 1}\n"
     ]
    }
   ],
   "source": [
    "## Find top 5 NON-STOP words per chapter\n",
    "\n",
    "silm_chapters_tokenized = []\n",
    "hobbit_chapters_tokenized = []\n",
    "fellowship_chapters_tokenized = []\n",
    "twotowers_chapters_tokenized = []\n",
    "return_chapters_tokenized = []\n",
    "\n",
    "\n",
    "# Get our NLTK stop word\n",
    "stop_words = set(stopwords.words('english')) \n",
    "if \"it\" in stop_words:\n",
    "    print(\"cool\")\n",
    "\n",
    "for i in range(len(list_of_books)):\n",
    "    print(i)\n",
    "\n",
    "\n",
    "tester = return_chapters[3]\n",
    "\n",
    "words = nltk.word_tokenize(tester)\n",
    "frequency = {}\n",
    "punctuation = \".,;!?:'()\"\n",
    "\n",
    "for word in words:\n",
    "    if word not in punctuation and word not in stop_words: # make all lowercase and remove punctuation\n",
    "        word = word.lower()\n",
    "        if word not in frequency:\n",
    "            frequency[word] = 1\n",
    "        else:\n",
    "            frequency[word] += 1\n",
    "\n",
    "print(frequency)"
   ]
  },
  {
   "cell_type": "markdown",
   "metadata": {
    "collapsed": true
   },
   "source": [
    "# Topic Modeling"
   ]
  },
  {
   "cell_type": "markdown",
   "metadata": {},
   "source": [
    "LDA - Latent Dirichlet Allocation"
   ]
  },
  {
   "cell_type": "code",
   "execution_count": null,
   "metadata": {
    "collapsed": true
   },
   "outputs": [],
   "source": []
  },
  {
   "cell_type": "code",
   "execution_count": null,
   "metadata": {
    "collapsed": true
   },
   "outputs": [],
   "source": []
  },
  {
   "cell_type": "code",
   "execution_count": null,
   "metadata": {
    "collapsed": true
   },
   "outputs": [],
   "source": []
  },
  {
   "cell_type": "code",
   "execution_count": null,
   "metadata": {
    "collapsed": true
   },
   "outputs": [],
   "source": []
  },
  {
   "cell_type": "markdown",
   "metadata": {},
   "source": [
    "# Testing"
   ]
  },
  {
   "cell_type": "code",
   "execution_count": 350,
   "metadata": {},
   "outputs": [
    {
     "name": "stdout",
     "output_type": "stream",
     "text": [
      "[{'text': 'the titanic was ok', 'polarity': 2, 'meta': {'language': 'en'}}, {'text': 'this sucks', 'polarity': 0, 'meta': {'language': 'en'}}, {'text': 'Happy day!', 'polarity': 4, 'meta': {'language': 'en'}}]\n"
     ]
    }
   ],
   "source": [
    "### Example JSON request\n",
    "#NOTE: Sentiment140 Polarity values: 0: negative, 2: neutral, 4: positive\n",
    "\n",
    "d = {'data':[{'text':'the titanic was ok'}, {'text':'this sucks'}]}\n",
    "d['data'].append({'text':\"Happy day!\"})\n",
    "\n",
    "r = requests.post('http://www.sentiment140.com/api/bulkClassifyJson?appid=blaz_j1@denison.edu', json=d)\n",
    "js = r.json()\n",
    "\n",
    "print(js['data'])"
   ]
  },
  {
   "cell_type": "code",
   "execution_count": 351,
   "metadata": {},
   "outputs": [
    {
     "name": "stdout",
     "output_type": "stream",
     "text": [
      "Text: the titanic was ok \n",
      "Polarity: 2\n",
      "Text: this sucks \n",
      "Polarity: 0\n",
      "Text: Happy day! \n",
      "Polarity: 4\n"
     ]
    }
   ],
   "source": [
    "### Example of accessing the polarities\n",
    "\n",
    "for i in range(len(d['data'])):\n",
    "    print(\"Text:\", js['data'][i]['text'], \"\\nPolarity:\", js['data'][i]['polarity'])"
   ]
  },
  {
   "cell_type": "code",
   "execution_count": 43,
   "metadata": {
    "collapsed": true
   },
   "outputs": [],
   "source": [
    "## Segment list indexing examples\n",
    "\n",
    "#print(hobbit_segments[15]) ## -- chapter\n",
    "#print(hobbit_segments[0][0]) ## -- segments of chapter"
   ]
  },
  {
   "cell_type": "code",
   "execution_count": null,
   "metadata": {
    "collapsed": true
   },
   "outputs": [],
   "source": [
    "#Working with 'glob'\n",
    "\n",
    "path= '/Users/blaz/Desktop/LOTR/silmarillion-chapters'\n",
    "silm_chapters = []\n",
    "\n",
    "for file in sorted(glob.glob(os.path.join(path,'*.txt'))):\n",
    "    print(file)\n",
    "    f = open(file, 'r')\n",
    "    txt = f.read()\n",
    "    silm_chapters.append(txt)\n",
    "    \n",
    "print(len(silm_chapters))\n",
    "print(silm_chapters[len(silm_chapters)-1])"
   ]
  }
 ],
 "metadata": {
  "kernelspec": {
   "display_name": "Python 3",
   "language": "python",
   "name": "python3"
  },
  "language_info": {
   "codemirror_mode": {
    "name": "ipython",
    "version": 3
   },
   "file_extension": ".py",
   "mimetype": "text/x-python",
   "name": "python",
   "nbconvert_exporter": "python",
   "pygments_lexer": "ipython3",
   "version": "3.6.3"
  }
 },
 "nbformat": 4,
 "nbformat_minor": 2
}
