{
 "cells": [
  {
   "cell_type": "code",
   "execution_count": 167,
   "metadata": {},
   "outputs": [],
   "source": [
    "## Josh Blaz -- LOTR\n",
    "import nltk\n",
    "import re\n",
    "import urllib.request\n",
    "import lxml.html as lh\n",
    "import io\n",
    "import requests\n",
    "\n",
    "\n",
    "#NOTE: Sentiment140 Polarity values: 0: negative, 2: neutral, 4: positive\n"
   ]
  },
  {
   "cell_type": "markdown",
   "metadata": {},
   "source": [
    "NOTE: Elvish text is translated awkwardly into the .txt format    \n",
    "</br>\n",
    "IE:   \n",
    "</br>\n",
    "►M MPR -F+MTRX MP ft PPtK P&RMPht: P. t. The last Two runes are the initials of Thror and Thrain."
   ]
  },
  {
   "cell_type": "code",
   "execution_count": 169,
   "metadata": {},
   "outputs": [],
   "source": [
    "import os\n",
    "import glob\n",
    "\n",
    "# Used Chapterize to split books into chapters \n",
    "## https://github.com/JonathanReeve/chapterize\n",
    "\n",
    "# These are lists containing strings of every chapter for each book\n",
    "silm_chapters = []\n",
    "hobbit_chapters = []\n",
    "fellowship_chapters = []\n",
    "twotowers_chapters = []\n",
    "return_chapters = []\n",
    "\n",
    "# Paths to directories storing book chapters\n",
    "list_of_paths = ['/Users/blaz/Desktop/LOTR/silmarillion-chapters', '/Users/blaz/Desktop/LOTR/hobbit-chapters',\\\n",
    "                '/Users/blaz/Desktop/LOTR/fellowship-chapters', '/Users/blaz/Desktop/LOTR/twotowers-chapters',\\\n",
    "                '/Users/blaz/Desktop/LOTR/return-chapters']\n",
    "\n",
    "for path in list_of_paths: # iterate through the list of folder paths for each book\n",
    "    for file in sorted(glob.glob(os.path.join(path,'*.txt'))): # This gives us a sorted list of the files in each dir\n",
    "        \n",
    "        f = open(file, 'r') # open and read file\n",
    "        txt = f.read()\n",
    "    \n",
    "        ## determine which path we're using and append it to the correct list of chapters\n",
    "        if path == '/Users/blaz/Desktop/LOTR/silmarillion-chapters': \n",
    "            silm_chapters.append(txt)\n",
    "        elif path == '/Users/blaz/Desktop/LOTR/hobbit-chapters':\n",
    "            hobbit_chapters.append(txt)\n",
    "        elif path == '/Users/blaz/Desktop/LOTR/fellowship-chapters': \n",
    "            fellowship_chapters.append(txt)\n",
    "        elif path == '/Users/blaz/Desktop/LOTR/twotowers-chapters': \n",
    "            twotowers_chapters.append(txt)\n",
    "        elif path == '/Users/blaz/Desktop/LOTR/return-chapters': \n",
    "            return_chapters.append(txt)\n"
   ]
  },
  {
   "cell_type": "code",
   "execution_count": 170,
   "metadata": {},
   "outputs": [],
   "source": [
    "\"\"\"\n",
    "Function that segments given chapter into a 2500 character segments to be sent to the API.\n",
    "\n",
    "Params - book_chapter is a chapter of a book to be broken into segments\n",
    "\n",
    "Returns a list of segments of the chapter.\n",
    "\"\"\"\n",
    "def Segmenter(chapter):\n",
    "    segments = []\n",
    "    \n",
    "    # start and end indices for segmenting the text\n",
    "    start = 0\n",
    "    end = 2500\n",
    "    \n",
    "    while end < len(chapter) + 2500:\n",
    "        segments.append(chapter[start:end])\n",
    "        start = end\n",
    "        end = end + 2500\n",
    "    \n",
    "    return segments #segments of input chapter"
   ]
  },
  {
   "cell_type": "code",
   "execution_count": 173,
   "metadata": {},
   "outputs": [],
   "source": [
    "#Lists of Lists of Lists storing all segments of all chapters for each book\n",
    "silm_segments = []\n",
    "hobbit_segments = []\n",
    "fellowship_segments = []\n",
    "twotowers_segments = []\n",
    "return_segments = []\n",
    "\n",
    "# List containing the lists storing each books' chapters\n",
    "list_of_books = [silm_chapters, hobbit_chapters, fellowship_chapters, twotowers_chapters, return_chapters]\n",
    "# List allowing us to access the segment lists\n",
    "list_of_segments = [silm_segments, hobbit_segments, fellowship_segments, twotowers_segments, return_segments]\n",
    "\n",
    "# Access the lists above so that we can iteratively segment each chapter in the corpus\n",
    "for i in range(len(list_of_books)):\n",
    "    for book in list_of_books:\n",
    "        for chapter in list_of_books[i]:\n",
    "            list_of_segments[i].append(Segmenter(chapter))\n",
    "            \n",
    "#print(hobbit_segments[15]) ## chapter\n",
    "#print(hobbit_segments[13][1]) ## segments of chapter"
   ]
  },
  {
   "cell_type": "code",
   "execution_count": 166,
   "metadata": {},
   "outputs": [
    {
     "name": "stdout",
     "output_type": "stream",
     "text": [
      "120\n",
      "100\n"
     ]
    }
   ],
   "source": [
    "#Maximum of 700,000 characters per API request, this shouldn't be a problem, as we're feeding chapters through.\n",
    "## This won't actually be a problem, but it's nice to know\n",
    "\n",
    "for book_segments in list_of_segments:\n",
    "    # iterate through all chapters, send all segments to API (Requester)\n",
    "    \n",
    "    if book_segments == hobbit_segments:\n",
    "        break\n",
    "    "
   ]
  },
  {
   "cell_type": "code",
   "execution_count": null,
   "metadata": {
    "collapsed": true
   },
   "outputs": [],
   "source": [
    "\"\"\"\n",
    "Function that sends segments of chapters through the Sentiment140 API.\n",
    "In order to do so, it creates a JSON file and adds these segments to the file, then it sends an HTTP post to the \n",
    "API using the requests module.\n",
    "\n",
    "Returns \n",
    "\"\"\"\n",
    "def Requester(chapter):\n",
    "    "
   ]
  },
  {
   "cell_type": "code",
   "execution_count": 74,
   "metadata": {},
   "outputs": [
    {
     "name": "stdout",
     "output_type": "stream",
     "text": [
      "200\n"
     ]
    }
   ],
   "source": [
    "# Example JSON request\n",
    "d = {'data':[{'text': 'awesome'}, {'text': 'cool cool cool'}]}\n",
    "d[\"data\"].append({'text': 'okay'})\n",
    "\n",
    "r = requests.post('http://www.sentiment140.com/api/bulkClassifyJson?appid=blaz_j1@denison.edu', json=d)\n",
    "print(r.status_code)\n",
    "r.json()\n",
    "\n",
    "js = r.json()\n",
    "\n",
    "# Example of accessing the polarity values\n",
    "print(js['data'])\n",
    "js['data'][0]['polarity']"
   ]
  },
  {
   "cell_type": "code",
   "execution_count": null,
   "metadata": {},
   "outputs": [],
   "source": []
  },
  {
   "cell_type": "code",
   "execution_count": null,
   "metadata": {
    "collapsed": true
   },
   "outputs": [],
   "source": []
  }
 ],
 "metadata": {
  "kernelspec": {
   "display_name": "Python 3",
   "language": "python",
   "name": "python3"
  },
  "language_info": {
   "codemirror_mode": {
    "name": "ipython",
    "version": 3
   },
   "file_extension": ".py",
   "mimetype": "text/x-python",
   "name": "python",
   "nbconvert_exporter": "python",
   "pygments_lexer": "ipython3",
   "version": "3.6.3"
  }
 },
 "nbformat": 4,
 "nbformat_minor": 2
}
