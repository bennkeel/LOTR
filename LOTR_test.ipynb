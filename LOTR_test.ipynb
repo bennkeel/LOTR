{
 "cells": [
  {
   "cell_type": "code",
   "execution_count": 1,
   "metadata": {},
   "outputs": [
    {
     "data": {
      "text/plain": [
       "'\\nSentiment140 Polarity values:\\n0: negative\\n2: neutral\\n4: positive\\n'"
      ]
     },
     "execution_count": 1,
     "metadata": {},
     "output_type": "execute_result"
    }
   ],
   "source": [
    "## Josh Blaz -- LOTR\n",
    "import nltk\n",
    "import re\n",
    "import urllib.request\n",
    "import lxml.html as lh\n",
    "import io\n",
    "import requests\n",
    "\n",
    "\"\"\"\n",
    "Sentiment140 Polarity values:\n",
    "0: negative\n",
    "2: neutral\n",
    "4: positive\n",
    "\"\"\""
   ]
  },
  {
   "cell_type": "code",
   "execution_count": 46,
   "metadata": {},
   "outputs": [
    {
     "name": "stdout",
     "output_type": "stream",
     "text": [
      "24\n",
      "20\n",
      "22\n",
      "20\n",
      "19\n"
     ]
    }
   ],
   "source": [
    "import os\n",
    "import glob\n",
    "\n",
    "# Used Chapterize to split books into chapters \n",
    "## https://github.com/JonathanReeve/chapterize\n",
    "\n",
    "silm_chapters = []\n",
    "hobbit_chapters = []\n",
    "fellowship_chapters = []\n",
    "twotowers_chapters = []\n",
    "return_chapters = []\n",
    "\n",
    "# Paths to directories storing book chapters\n",
    "list_of_paths = ['/Users/blaz/Desktop/LOTR/silmarillion-chapters', '/Users/blaz/Desktop/LOTR/hobbit-chapters',\\\n",
    "                '/Users/blaz/Desktop/LOTR/fellowship-chapters', '/Users/blaz/Desktop/LOTR/twotowers-chapters',\\\n",
    "                '/Users/blaz/Desktop/LOTR/return-chapters']\n",
    "\n",
    "for path in list_of_paths: # iterate through the list of folder paths for each book\n",
    "    for file in sorted(glob.glob(os.path.join(path,'*.txt'))): # This gives us a sorted list of the files in each dir\n",
    "        \n",
    "        f = open(file, 'r') # open and read file\n",
    "        txt = f.read()\n",
    "    \n",
    "        ## determine which path we're using and append it to the correct list of chapters\n",
    "        if path == '/Users/blaz/Desktop/LOTR/silmarillion-chapters': \n",
    "            silm_chapters.append(txt)\n",
    "        elif path == '/Users/blaz/Desktop/LOTR/hobbit-chapters':\n",
    "            hobbit_chapters.append(txt)\n",
    "        elif path == '/Users/blaz/Desktop/LOTR/fellowship-chapters': \n",
    "            fellowship_chapters.append(txt)\n",
    "        elif path == '/Users/blaz/Desktop/LOTR/twotowers-chapters': \n",
    "            twotowers_chapters.append(txt)\n",
    "        elif path == '/Users/blaz/Desktop/LOTR/return-chapters': \n",
    "            return_chapters.append(txt)\n",
    "\n",
    "print(len(silm_chapters))\n",
    "print(len(hobbit_chapters))\n",
    "print(len(fellowship_chapters))\n",
    "print(len(twotowers_chapters))\n",
    "print(len(return_chapters))"
   ]
  },
  {
   "cell_type": "code",
   "execution_count": 26,
   "metadata": {},
   "outputs": [
    {
     "name": "stdout",
     "output_type": "stream",
     "text": [
      "json={\"data\":[{\"text\": \"{}\"]}\n"
     ]
    }
   ],
   "source": [
    "\"\"\"\n",
    "Function that creates JSON requests for a chapter of a book.\n",
    "NOTE: Maximum of 700,000 characters per API request, this shouldn't be a problem, as we're feeding chapters through.\n",
    "\n",
    "Params - book_chapter is a chapter of a book to be broken into a JSON query\n",
    "\"\"\"\n",
    "def Requester(chapter):\n",
    "    #break chapter into segments of 300 words to send through the API\n",
    "    #open and iterate through folder\n",
    "    formstring = \"\"\"json={\"data\":[{\"text\": \"{}\"]}\"\"\" \n",
    "    # may have to have multiple request per chapter\n",
    "    print(formstring)\n",
    "    \n",
    "Requester()"
   ]
  },
  {
   "cell_type": "code",
   "execution_count": 44,
   "metadata": {},
   "outputs": [
    {
     "name": "stdout",
     "output_type": "stream",
     "text": [
      "200\n"
     ]
    },
    {
     "data": {
      "text/plain": [
       "{'data': [{'meta': {'language': 'en'}, 'polarity': 2, 'text': 'okay cool '},\n",
       "  {'meta': {'language': 'en'}, 'polarity': 4, 'text': 'cool cool cool'}]}"
      ]
     },
     "execution_count": 44,
     "metadata": {},
     "output_type": "execute_result"
    }
   ],
   "source": [
    "# Example JSON request\n",
    "d = {\"data\":[{\"text\": \"okay cool \"}, {\"text\": \"cool cool cool\"}]}\n",
    "r = requests.post('http://www.sentiment140.com/api/bulkClassifyJson?appid=blaz_j1@denison.edu', json=d)\n",
    "print(r.status_code)\n",
    "r.json()"
   ]
  },
  {
   "cell_type": "code",
   "execution_count": null,
   "metadata": {
    "collapsed": true
   },
   "outputs": [],
   "source": []
  }
 ],
 "metadata": {
  "kernelspec": {
   "display_name": "Python 3",
   "language": "python",
   "name": "python3"
  },
  "language_info": {
   "codemirror_mode": {
    "name": "ipython",
    "version": 3
   },
   "file_extension": ".py",
   "mimetype": "text/x-python",
   "name": "python",
   "nbconvert_exporter": "python",
   "pygments_lexer": "ipython3",
   "version": "3.6.3"
  }
 },
 "nbformat": 4,
 "nbformat_minor": 2
}
