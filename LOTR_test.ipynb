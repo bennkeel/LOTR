{
 "cells": [
  {
   "cell_type": "code",
   "execution_count": 123,
   "metadata": {},
   "outputs": [],
   "source": [
    "## Josh Blaz -- LOTR\n",
    "import nltk\n",
    "import re\n",
    "import urllib.request\n",
    "import lxml.html as lh\n",
    "import io\n",
    "import requests\n",
    "import os\n",
    "import glob\n",
    "from ggplot import *\n",
    "\n",
    "import pandas as pd\n",
    "import matplotlib.pyplot as plt\n",
    "import numpy as np\n",
    "#NOTE: Sentiment140 Polarity values: 0: negative, 2: neutral, 4: positive"
   ]
  },
  {
   "cell_type": "markdown",
   "metadata": {},
   "source": [
    "**NOTE: Elvish text is translated awkwardly into the .txt format    \n",
    "</br>\n",
    "IE:   \n",
    "</br>\n",
    "►M MPR -F+MTRX MP ft PPtK P&RMPht: P. t. The last Two runes are the initials of Thror and Thrain.**"
   ]
  },
  {
   "cell_type": "code",
   "execution_count": 36,
   "metadata": {},
   "outputs": [],
   "source": [
    "# Used Chapterize to split books into chapters \n",
    "## https://github.com/JonathanReeve/chapterize\n",
    "### Chapterize didn't work 100% perfectly, so I had to go through and the prologues back in when it cut them out\n",
    "\n",
    "# These are lists containing strings of every chapter for each book\n",
    "silm_chapters = []\n",
    "hobbit_chapters = []\n",
    "fellowship_chapters = []\n",
    "twotowers_chapters = []\n",
    "return_chapters = []\n",
    "\n",
    "# Paths to directories storing book chapters\n",
    "list_of_paths = ['/Users/blaz/Desktop/LOTR/silmarillion-chapters', '/Users/blaz/Desktop/LOTR/hobbit-chapters',\\\n",
    "                '/Users/blaz/Desktop/LOTR/fellowship-chapters', '/Users/blaz/Desktop/LOTR/twotowers-chapters',\\\n",
    "                '/Users/blaz/Desktop/LOTR/return-chapters']\n",
    "\n",
    "for path in list_of_paths: # iterate through the list of folder paths for each book\n",
    "    for file in sorted(glob.glob(os.path.join(path,'*.txt'))): # This gives us a sorted list of the files in each directory                                                         \n",
    "        f = open(file, 'r') # open and read file               # allowing us to read in the chapters in order.\n",
    "        txt = f.read()\n",
    "        ## determine which path we're using and append it to the correct book chapter list\n",
    "        if path == '/Users/blaz/Desktop/LOTR/silmarillion-chapters': \n",
    "            # Because of an issue with 'glob', I had to create a copy of the final chapter in The Silmarillion\n",
    "            silm_chapters.append(txt)\n",
    "        elif path == '/Users/blaz/Desktop/LOTR/hobbit-chapters':\n",
    "            hobbit_chapters.append(txt)\n",
    "        elif path == '/Users/blaz/Desktop/LOTR/fellowship-chapters': \n",
    "            fellowship_chapters.append(txt)\n",
    "        elif path == '/Users/blaz/Desktop/LOTR/twotowers-chapters': \n",
    "            twotowers_chapters.append(txt)\n",
    "        elif path == '/Users/blaz/Desktop/LOTR/return-chapters': \n",
    "            return_chapters.append(txt)"
   ]
  },
  {
   "cell_type": "code",
   "execution_count": 37,
   "metadata": {
    "collapsed": true
   },
   "outputs": [],
   "source": [
    "# Store chapter names for use in dataframes later\n",
    "\n",
    "silm_chapter_names = [\"Ainundalë\", \"Valaquenta\", \"Of the Beginning of Days\", \"Of Aulë and Yavanna\" , \"Of the Coming of the Elves and the Captivity of Melkor\",\\\n",
    "                     \"Of Thingol and Melian\", \"Of Eldamar and the Princes of the Eldalië\", \"Of Fëanor and the Unchaining of Melkor\", \"Of the Silmarils and the Unrest of the Noldor\",\\\n",
    "                     \"Of the Darkening of Valinor\", \"Of the Flight of the Noldor\", \"Of the Sindar\", \"Of the Sun and Moon and the Hiding of Valinor\", \"Of Men\", \"Of the Return of the Noldor\",\\\n",
    "                     \"Of Beleriad and its Realms\", \"Of the Noldor in Beleriad\", \"Of Maeglin\", \"Of the Coming of Men into the West\", \"Of the Ruin of Beleriad and the Fall of Fingolfin\", \"Of Beren and Lúthien\",\\\n",
    "                     \"Of the Fifth Battle: Nirnaeth Arnoediad\", \"Of Túrin Turambar\", \"Of the Ruin of Doriath\", \"Of Tuor and the Fall of Gondolin\", \"Of the Voyage of Eärendil and the War of Wrath\", \\\n",
    "                     \"Akallabêth: The Downfall of Númenor\", \"Of the Rings of Power and the Third Age\"]\n",
    "\n",
    "hobbit_chapter_names = [\"An Unexpected Party\", \"Roast Mutton\", \"A Short Rest\", \"Over Hill and Under Hill\", \"Riddles In The Dark\", \\\n",
    "                       \"Out Of The Frying-Pan Into The Fire\", \"Queer Lodgings\", \"Flies And Spiders\", \"Barrels Out Of Bond\", \"A Warm Welcome\", \\\n",
    "                       \"On The Doorstep\", \"Inside Information\", \"Not At Home\", \"Fire And Water\", \"The Gathering Of The Clouds\", \"A Thief In The Night\", \\\n",
    "                       \"The Clouds Burst\", \"The Return Journey\", \"The Last Stage\"]\n",
    "\n",
    "fellowship_chapter_names = [\"Concerning Hobbits\", \"Concerning Pipeweed\", \"Of the Ordering of the Shire\", \"Note on the Shire Records\", \"A Long-expected Party\", \"The Shadow of the Past\", \\\n",
    "                           \"Three is Company\", \"A Short Cut to Mushrooms\", \"A Conspiracy Unmasked\", \"The Old Forest\", \"In the House of Tom Bombadil\", \"Fog on the Barrow-downs\", \"At the Sign of the Prancing Pony\",\\\n",
    "                           \"Strider\", \"A Knife in the Dark\", \"Flight to the Ford\", \"Many Meetings\", \"The Council of Elrond\", \"The Ring goes South\", \"A Journey in the Dark\", \"The Bridge of Khazad-dûm\", \\\n",
    "                           \"Lothlórien\", \"The Mirror of Galadriel\", \"Farewell to Lórien\", \"The Great River\", \"The Breaking of the Fellowship\"]\n",
    "\n",
    "twotowers_chapter_names = [\"The Departure of Boromir\", \"The Riders of Rohan\", \"The Uruk-hai\", \"Treebeard\", \"The White Rider\", \"The King of the Golden Hall\", \"Helm's Deep\", \"The Road to Isengard\", \"Flotsam and Jetsam\", \\\n",
    "                          \"The Voice of Saruman\", \"The Palantír\", \"The Taming of Smeagol\", \"The Passage of the Marshes\", \"The Black Gate is Closed\", \"Of Herbs and Stewed Rabbit\", \"The Window of the West\", \"The Forbidden Pool\", \\\n",
    "                          \"Journey to the Cross-roads\", \"The Stairs to Cirith Ungol\", \"Shelob's Lair\", \"The Choices of Master Samwise\"]\n",
    "\n",
    "return_chapter_names = [\"Minas Tirith\", \"The Passing of the Grey Company\", \"The Muster of Rohan\", \"The Siege of Gondor\", \"The Ride of Rohirrim\", \"The Battle of the Pelennor Fields\", \"The Pyre of Denethor\",\\\n",
    "                       \"The Houses of Healing\", \"The Last Debate\", \"The Black Gate Opens\", \"The Tower of Cirith Ungol\", \"The Land of Shadow\", \"Mount Doom\", \"The Field of Cormallen\", \"The Steward and the King\", \\\n",
    "                       \"Many Partings\", \"Homeward Bound\", \"Scouring of the Shire\", \"The Grey Havens\"]\n"
   ]
  },
  {
   "cell_type": "markdown",
   "metadata": {},
   "source": [
    "# Sentiment Analysis"
   ]
  },
  {
   "cell_type": "markdown",
   "metadata": {},
   "source": [
    "**Now, for each book, we have lists containing all of the chapters for that book.  \n",
    "</br>\n",
    "This was accomplished by iterating through the directories that store the chapters for each book using the \"glob\" and \"os\" modules.**"
   ]
  },
  {
   "cell_type": "code",
   "execution_count": 38,
   "metadata": {
    "collapsed": true
   },
   "outputs": [],
   "source": [
    "\"\"\"\n",
    "Function that segments given chapter into a page-sized (2940 character) segments to be sent to the API.\n",
    "\n",
    "Parameters - chapter - chapter of a book to be broken into segments\n",
    "           - cut - length that we segment the text with\n",
    "       \n",
    "Returns a list of (string) segments of the chapter.\n",
    "\"\"\"\n",
    "def Segmenter(chapter, cut):\n",
    "    segments = []\n",
    "    # start and end indices for segmenting the text\n",
    "    start = 0\n",
    "    end = cut\n",
    "    while end < len(chapter) + cut:\n",
    "        segments.append(chapter[start:end])\n",
    "        start = end\n",
    "        end = end + cut\n",
    "    return segments #segments of input chapter"
   ]
  },
  {
   "cell_type": "markdown",
   "metadata": {},
   "source": [
    "**This function allows us to split the chapters of each book into segments to send in our HTTP-Post JSON requests.   \n",
    "</br>\n",
    "I chose 2940 as the length because this is the exact number of characters per page (including spaces) in my copy of Fellowship of the Ring. **"
   ]
  },
  {
   "cell_type": "code",
   "execution_count": 52,
   "metadata": {},
   "outputs": [],
   "source": [
    "# Lists of Lists of Lists storing all segments of all chapters for each book\n",
    "# [[chapter1 segment 0-2500, chap1, segmenet 2500-5000]... [chapter2 segment0-2500, ...]...]\n",
    "silm_segments = []\n",
    "hobbit_segments = []\n",
    "fellowship_segments = []\n",
    "twotowers_segments = []\n",
    "return_segments = []\n",
    "\n",
    "# List containing the lists storing each books' chapters\n",
    "list_of_books = [silm_chapters, hobbit_chapters, fellowship_chapters, twotowers_chapters, return_chapters]\n",
    "# List allowing us to access the segment lists\n",
    "list_of_segments = [silm_segments, hobbit_segments, fellowship_segments, twotowers_segments, return_segments]\n",
    "\n",
    "# Access the lists above so that we can iteratively segment each chapter in the corpus\n",
    "for i in range(len(list_of_books)):\n",
    "    for chapter in list_of_books[i]:\n",
    "        list_of_segments[i].append(Segmenter(chapter,2940))\n"
   ]
  },
  {
   "cell_type": "markdown",
   "metadata": {},
   "source": [
    "**In the cell above I create lists of lists for segments of each chapter of each corpus or book, and append to them using my \"Segmenter\"\n",
    "function, storing them neatly like this will allow me to iteratively query the API server. **"
   ]
  },
  {
   "cell_type": "code",
   "execution_count": 40,
   "metadata": {
    "collapsed": true
   },
   "outputs": [],
   "source": [
    "\"\"\"\n",
    "Function that sends segments of 1 chapter through the Sentiment140 API.\n",
    "In order to do so, it creates and appends segments to a JSON file, then posts the JSON queries to the API server\n",
    "using requests module (using an HTTP Post)\n",
    "\n",
    "Parameters - chapter_segments - segments of an entire chapter of a book\n",
    "\n",
    "Returns a list of polarities for segments of the chapter, as well as the polarity average for the chapter\n",
    "\n",
    "Note: Maximum of 700,000 characters per API request, though this shouldn't be a problem\n",
    "\"\"\"\n",
    "\n",
    "def Polarity(chapter_segments): # segments of a single chapter\n",
    "    request = {'data':[]}\n",
    "    polarityList = []\n",
    "    counter = 0\n",
    "    for segment in chapter_segments: # Fill JSON\n",
    "        request['data'].append({'text':segment})\n",
    "    r = requests.post('http://www.sentiment140.com/api/bulkClassifyJson?appid=blaz_j1@denison.edu', json=request)\n",
    "    jso = r.json()\n",
    "    for i in range(len(request['data'])-1):\n",
    "        polarityList.append(jso['data'][i]['polarity'])\n",
    "    \n",
    "    polarityTotal = 0\n",
    "    for value in polarityList:\n",
    "        polarityTotal = polarityTotal + value\n",
    "    \n",
    "    polarityAVG = polarityTotal/len(polarityList)\n",
    "    #print(polarityList)\n",
    "    return polarityList, polarityAVG"
   ]
  },
  {
   "cell_type": "code",
   "execution_count": 41,
   "metadata": {
    "scrolled": false
   },
   "outputs": [
    {
     "name": "stdout",
     "output_type": "stream",
     "text": [
      "silm\n",
      "hobbit\n",
      "fellowship\n",
      "two towers\n",
      "return of the king\n"
     ]
    }
   ],
   "source": [
    "# This function takes about a minute to run\n",
    "\n",
    "# store all averages, then store chapter avg, also overall average\n",
    "silm_polarity_avg = []\n",
    "hobbit_polarity_avg = []\n",
    "fellowship_polarity_avg = []\n",
    "twotowers_polarity_avg = []\n",
    "return_polarity_avg = []\n",
    "\n",
    "silm_polarity_lists = []\n",
    "hobbit_polarity_lists = []\n",
    "fellowship_polarity_lists = []\n",
    "twotowers_polarity_lists = []\n",
    "return_polarity_lists = []\n",
    "### Need to get chapter names in\n",
    "\n",
    "for x in range(len(list_of_books)):\n",
    "    book = list_of_books[x]\n",
    "    segs = list_of_segments[x]\n",
    "    \n",
    "    if x == 0:\n",
    "        print(\"silm\")\n",
    "    if x == 1:\n",
    "        print(\"hobbit\")\n",
    "    if x == 2:\n",
    "        print(\"fellowship\")\n",
    "    if x == 3:\n",
    "        print(\"two towers\")\n",
    "    if x == 4:\n",
    "        print(\"return of the king\")\n",
    "    \n",
    "    for i in range(len(book)):\n",
    "        if x == 0:\n",
    "            temp1 = []\n",
    "            temp2 = 0.0\n",
    "            temp1,temp2 = Polarity(segs[i])\n",
    "            silm_polarity_lists.append(temp1)\n",
    "            silm_polarity_avg.append(temp2)\n",
    "        if x == 1:\n",
    "            temp1 = []\n",
    "            temp2 = 0.0\n",
    "            temp1,temp2 = Polarity(segs[i])\n",
    "            hobbit_polarity_lists.append(temp1)\n",
    "            hobbit_polarity_avg.append(temp2)\n",
    "        if x == 2:\n",
    "            temp1 = []\n",
    "            temp2 = 0.0\n",
    "            temp1,temp2 = Polarity(segs[i])\n",
    "            fellowship_polarity_lists.append(temp1)\n",
    "            fellowship_polarity_avg.append(temp2)\n",
    "        if x == 3:\n",
    "            temp1 = []\n",
    "            temp2 = 0.0\n",
    "            temp1,temp2 = Polarity(segs[i])\n",
    "            twotowers_polarity_lists.append(temp1)\n",
    "            twotowers_polarity_avg.append(temp2)\n",
    "        if x == 4:\n",
    "            temp1 = []\n",
    "            temp2 = 0.0\n",
    "            temp1,temp2 = Polarity(segs[i])\n",
    "            return_polarity_lists.append(temp1)\n",
    "            return_polarity_avg.append(temp2)\n",
    "\n",
    "all_polarity_avgs = [silm_polarity_avg, hobbit_polarity_avg, fellowship_polarity_avg, twotowers_polarity_avg, return_polarity_avg]\n",
    "\n",
    "all_polarity_lists = [silm_polarity_lists, hobbit_polarity_lists, fellowship_polarity_lists, twotowers_polarity_lists, return_polarity_lists]  \n",
    "# chapter 3 of return of the king is super dark"
   ]
  },
  {
   "cell_type": "code",
   "execution_count": 121,
   "metadata": {
    "scrolled": true
   },
   "outputs": [
    {
     "name": "stdout",
     "output_type": "stream",
     "text": [
      "\n",
      "SILM:\n",
      "['Ainundalë', 'Valaquenta', 'Of the Beginning of Days', 'Of Aulë and Yavanna', 'Of the Coming of the Elves and the Captivity of Melkor', 'Of Thingol and Melian', 'Of Eldamar and the Princes of the Eldalië', 'Of Fëanor and the Unchaining of Melkor', 'Of the Silmarils and the Unrest of the Noldor', 'Of the Darkening of Valinor', 'Of the Flight of the Noldor', 'Of the Sindar', 'Of the Sun and Moon and the Hiding of Valinor', 'Of Men', 'Of the Return of the Noldor', 'Of Beleriad and its Realms', 'Of the Noldor in Beleriad', 'Of Maeglin', 'Of the Coming of Men into the West', 'Of the Ruin of Beleriad and the Fall of Fingolfin', 'Of Beren and Lúthien', 'Of the Fifth Battle: Nirnaeth Arnoediad', 'Of Túrin Turambar', 'Of the Ruin of Doriath', 'Of Tuor and the Fall of Gondolin', 'Of the Voyage of Eärendil and the War of Wrath', 'Akallabêth: The Downfall of Númenor', 'Of the Rings of Power and the Third Age']\n",
      "[1.6666666666666667, 3.3333333333333335, 2.857142857142857, 2.6666666666666665, 2.2857142857142856, 4.0, 2.0, 2.6666666666666665, 1.6, 1.3333333333333333, 0.7272727272727273, 2.4, 2.0, 2.0, 1.4, 4.0, 1.5, 1.7142857142857142, 2.0, 0.9090909090909091, 0.5, 0.24, 0.6666666666666666, 0.6666666666666666, 0.5, 1.1428571428571428, 1.84375, 1.84375]\n",
      "\n",
      "HOBBIT\n",
      "['An Unexpected Party', 'Roast Mutton', 'A Short Rest', 'Over Hill and Under Hill', 'Riddles In The Dark', 'Out Of The Frying-Pan Into The Fire', 'Queer Lodgings', 'Flies And Spiders', 'Barrels Out Of Bond', 'A Warm Welcome', 'On The Doorstep', 'Inside Information', 'Not At Home', 'Fire And Water', 'The Gathering Of The Clouds', 'A Thief In The Night', 'The Clouds Burst', 'The Return Journey', 'The Last Stage']\n",
      "[2.2666666666666666, 0.4444444444444444, 2.4, 0.5714285714285714, 0.0, 0.6666666666666666, 1.375, 0.3333333333333333, 0.2, 0.2857142857142857, 0.0, 0.6153846153846154, 0.0, 0.0, 1.0, 2.6666666666666665, 0.5714285714285714, 1.6, 1.6]\n",
      "\n",
      "FELLOWSHIP\n",
      "['Concerning Hobbits', 'Concerning Pipeweed', 'Of the Ordering of the Shire', 'Note on the Shire Records', 'A Long-expected Party', 'The Shadow of the Past', 'Three is Company', 'A Short Cut to Mushrooms', 'A Conspiracy Unmasked', 'The Old Forest', 'In the House of Tom Bombadil', 'Fog on the Barrow-downs', 'At the Sign of the Prancing Pony', 'Strider', 'A Knife in the Dark', 'Flight to the Ford', 'Many Meetings', 'The Council of Elrond', 'The Ring goes South', 'A Journey in the Dark', 'The Bridge of Khazad-dûm', 'Lothlórien', 'The Mirror of Galadriel', 'Farewell to Lórien', 'The Great River', 'The Breaking of the Fellowship']\n",
      "[2.0, 4.0, 0.0, 1.0, 2.3333333333333335, 1.4, 1.1764705882352942, 0.8, 2.0, 1.3333333333333333, 2.4, 0.6666666666666666, 2.3636363636363638, 1.8, 0.0, 0.125, 1.5, 0.896551724137931, 1.4736842105263157, 0.2857142857142857, 0.2222222222222222, 0.23529411764705882, 0.6666666666666666, 2.5454545454545454, 0.3076923076923077, 0.18181818181818182]\n",
      "\n",
      "TWO TOWERS\n",
      "['The Departure of Boromir', 'The Riders of Rohan', 'The Uruk-hai', 'Treebeard', 'The White Rider', 'The King of the Golden Hall', \"Helm's Deep\", 'The Road to Isengard', 'Flotsam and Jetsam', 'The Voice of Saruman', 'The Palantír', 'The Taming of Smeagol', 'The Passage of the Marshes', 'The Black Gate is Closed', 'Of Herbs and Stewed Rabbit', 'The Window of the West', 'The Forbidden Pool', 'Journey to the Cross-roads', 'The Stairs to Cirith Ungol', \"Shelob's Lair\", 'The Choices of Master Samwise']\n",
      "[0.0, 0.7, 0.8571428571428571, 2.347826086956522, 0.5, 2.4705882352941178, 0.5714285714285714, 1.5714285714285714, 0.42857142857142855, 1.8823529411764706, 1.0, 0.8, 0.6153846153846154, 1.2, 1.8333333333333333, 1.3333333333333333, 0.8888888888888888, 0.5, 1.1666666666666667, 0.4444444444444444, 0.8571428571428571]\n",
      "\n",
      "RETURN OF THE KING\n",
      "['Minas Tirith', 'The Passing of the Grey Company', 'The Muster of Rohan', 'The Siege of Gondor', 'The Ride of Rohirrim', 'The Battle of the Pelennor Fields', 'The Pyre of Denethor', 'The Houses of Healing', 'The Last Debate', 'The Black Gate Opens', 'The Tower of Cirith Ungol', 'The Land of Shadow', 'Mount Doom', 'The Field of Cormallen', 'The Steward and the King', 'Many Partings', 'Homeward Bound', 'Scouring of the Shire', 'The Grey Havens']\n",
      "[1.9130434782608696, 0.6666666666666666, 1.3333333333333333, 0.7619047619047619, 0.0, 0.0, 0.0, 2.0, 1.7777777777777777, 0.0, 0.47058823529411764, 0.13333333333333333, 0.0, 2.0, 2.4615384615384617, 2.3076923076923075, 1.4285714285714286, 0.7, 2.25]\n"
     ]
    }
   ],
   "source": [
    "for x in range(len(all_polarity_avgs)):\n",
    "    if x == 0:\n",
    "        print(\"\")\n",
    "        print(\"SILM:\")\n",
    "        print(silm_chapter_names)\n",
    "        print(all_polarity_avgs[x])\n",
    "    if x == 1:\n",
    "        print(\"\")\n",
    "        print(\"HOBBIT\")\n",
    "        print(hobbit_chapter_names)\n",
    "        print(all_polarity_avgs[x])\n",
    "    if x == 2:\n",
    "        print(\"\")\n",
    "        print(\"FELLOWSHIP\")\n",
    "        print(fellowship_chapter_names)\n",
    "        print(all_polarity_avgs[x])\n",
    "    if x == 3:\n",
    "        print(\"\")\n",
    "        print(\"TWO TOWERS\")\n",
    "        print(twotowers_chapter_names)\n",
    "        print(all_polarity_avgs[x])\n",
    "    if x == 4:\n",
    "        print(\"\")\n",
    "        print(\"RETURN OF THE KING\")\n",
    "        print(return_chapter_names)\n",
    "        print(all_polarity_avgs[x])\n",
    "        "
   ]
  },
  {
   "cell_type": "code",
   "execution_count": 130,
   "metadata": {},
   "outputs": [
    {
     "data": {
      "text/plain": [
       "'\\n# Export to Excel\\npd.read_excel(\\'file.xlsx\\')\\nfull_df.to_csv(\"full_df.csv\")\\npd.to_excel(\\'dir/myDataFrame.xlsx\\', sheet_name=\\'Sheet1\\')\\n'"
      ]
     },
     "execution_count": 130,
     "metadata": {},
     "output_type": "execute_result"
    }
   ],
   "source": [
    "# Converting AVG data into pandas dataframes\n",
    "\n",
    "silm_df = pd.DataFrame(silm_polarity_avg, index = silm_chapter_names, columns = [\"Polarity\"])\n",
    "silm_df = silm_df.rename_axis(\"--- The Silmarillion ---\")\n",
    "#silm_df.to_csv(\"silm_df.csv\")\n",
    "\n",
    "hobbit_df = pd.DataFrame(hobbit_polarity_avg, index = hobbit_chapter_names, columns = [\"Polarity\"])\n",
    "hobbit_df = hobbit_df.rename_axis(\"--- The Hobbit ---\")\n",
    "#hobbit_df.to_csv(\"hobbit_df.csv\")\n",
    "\n",
    "fellowship_df = pd.DataFrame(fellowship_polarity_avg, index = fellowship_chapter_names, columns = [\"Polarity\"])\n",
    "fellowship_df = fellowship_df.rename_axis(\"--- The Fellowship of the Ring ---\")\n",
    "# Prologue chapters have weird polarities - have solid values because they're shorter\n",
    "#fellowship_df.to_csv(\"fellowship_df.csv\")\n",
    "\n",
    "twotowers_df = pd.DataFrame(twotowers_polarity_avg, index = twotowers_chapter_names, columns = [\"Polarity\"])\n",
    "twotowers_df = twotowers_df.rename_axis(\"--- The Two Towers ---\")\n",
    "#twotowers_df.to_csv(\"twotowers_df.csv\")\n",
    "\n",
    "return_df = pd.DataFrame(return_polarity_avg, index = return_chapter_names, columns = [\"Polarity\"])\n",
    "return_df = return_df.rename_axis(\"--- The Return of the King ---\")\n",
    "#return_df.to_csv(\"return_df.csv\")\n",
    "# Really dark novel\n",
    "\n",
    "# Dataframe of all Books overlaid\n",
    "books_df = [silm_df, hobbit_df, fellowship_df, twotowers_df, return_df]\n",
    "#full_df = pd.concat(books_df)\n",
    "\n",
    "# Export to CSV\n",
    "#full_df.to_csv(\"full_df.csv\")\n",
    "\n",
    "\"\"\"\n",
    "# Export to Excel\n",
    "pd.read_excel('file.xlsx')\n",
    "full_df.to_csv(\"full_df.csv\")\n",
    "pd.to_excel('dir/myDataFrame.xlsx', sheet_name='Sheet1')\n",
    "\"\"\"\n",
    "\n",
    "# Add another column for topic, once topic modeling is complete\n",
    "\n",
    "\n",
    "## NEXT: save polarity lists to dataframes to show how some books are darker than others"
   ]
  },
  {
   "cell_type": "code",
   "execution_count": 131,
   "metadata": {},
   "outputs": [
    {
     "name": "stdout",
     "output_type": "stream",
     "text": [
      "                                                    Polarity\n",
      "--- The Silmarillion ---                                    \n",
      "Ainundalë                                           1.666667\n",
      "Valaquenta                                          3.333333\n",
      "Of the Beginning of Days                            2.857143\n",
      "Of Aulë and Yavanna                                 2.666667\n",
      "Of the Coming of the Elves and the Captivity of...  2.285714\n",
      "Of Thingol and Melian                               4.000000\n",
      "Of Eldamar and the Princes of the Eldalië           2.000000\n",
      "Of Fëanor and the Unchaining of Melkor              2.666667\n",
      "Of the Silmarils and the Unrest of the Noldor       1.600000\n",
      "Of the Darkening of Valinor                         1.333333\n",
      "Of the Flight of the Noldor                         0.727273\n",
      "Of the Sindar                                       2.400000\n",
      "Of the Sun and Moon and the Hiding of Valinor       2.000000\n",
      "Of Men                                              2.000000\n",
      "Of the Return of the Noldor                         1.400000\n",
      "Of Beleriad and its Realms                          4.000000\n",
      "Of the Noldor in Beleriad                           1.500000\n",
      "Of Maeglin                                          1.714286\n",
      "Of the Coming of Men into the West                  2.000000\n",
      "Of the Ruin of Beleriad and the Fall of Fingolfin   0.909091\n",
      "Of Beren and Lúthien                                0.500000\n",
      "Of the Fifth Battle: Nirnaeth Arnoediad             0.240000\n",
      "Of Túrin Turambar                                   0.666667\n",
      "Of the Ruin of Doriath                              0.666667\n",
      "Of Tuor and the Fall of Gondolin                    0.500000\n",
      "Of the Voyage of Eärendil and the War of Wrath      1.142857\n",
      "Akallabêth: The Downfall of Númenor                 1.843750\n",
      "Of the Rings of Power and the Third Age             1.843750\n"
     ]
    }
   ],
   "source": [
    "print(silm_df)"
   ]
  },
  {
   "cell_type": "code",
   "execution_count": 120,
   "metadata": {},
   "outputs": [
    {
     "data": {
      "text/plain": [
       "<matplotlib.figure.Figure at 0x1c1294a748>"
      ]
     },
     "metadata": {},
     "output_type": "display_data"
    },
    {
     "data": {
      "image/png": "[encoded data removed]",
      "text/plain": [
       "<matplotlib.figure.Figure at 0x1c1292c1d0>"
      ]
     },
     "metadata": {},
     "output_type": "display_data"
    },
    {
     "data": {
      "text/plain": [
       "<matplotlib.figure.Figure at 0x1c12a01f60>"
      ]
     },
     "execution_count": 120,
     "metadata": {},
     "output_type": "execute_result"
    }
   ],
   "source": [
    "# Plots\n",
    "## Note: Wasn't able to get another Tableau Trial\n",
    "\n",
    "from matplotlib.pyplot import figure\n",
    "\n",
    "\n",
    "\"\"\"\n",
    "## lol\n",
    "full_df.plot(kind='bar')\n",
    "plt.show()\n",
    "\"\"\"\n",
    "\n",
    "full_df.plot(kind='line')\n",
    "plt.show()\n",
    "\n",
    "fig = matplotlib.pyplot.gcf()\n",
    "fig.set_size_inches(18.5, 10.5)\n",
    "fig.savefig('test2png.png', dpi=100)\n"
   ]
  },
  {
   "cell_type": "markdown",
   "metadata": {
    "collapsed": true
   },
   "source": [
    "# Topic Modeling"
   ]
  },
  {
   "cell_type": "code",
   "execution_count": null,
   "metadata": {
    "collapsed": true
   },
   "outputs": [],
   "source": []
  },
  {
   "cell_type": "code",
   "execution_count": null,
   "metadata": {
    "collapsed": true
   },
   "outputs": [],
   "source": []
  },
  {
   "cell_type": "code",
   "execution_count": null,
   "metadata": {
    "collapsed": true
   },
   "outputs": [],
   "source": []
  },
  {
   "cell_type": "code",
   "execution_count": null,
   "metadata": {
    "collapsed": true
   },
   "outputs": [],
   "source": []
  },
  {
   "cell_type": "markdown",
   "metadata": {},
   "source": [
    "# Testing"
   ]
  },
  {
   "cell_type": "code",
   "execution_count": 350,
   "metadata": {},
   "outputs": [
    {
     "name": "stdout",
     "output_type": "stream",
     "text": [
      "[{'text': 'the titanic was ok', 'polarity': 2, 'meta': {'language': 'en'}}, {'text': 'this sucks', 'polarity': 0, 'meta': {'language': 'en'}}, {'text': 'Happy day!', 'polarity': 4, 'meta': {'language': 'en'}}]\n"
     ]
    }
   ],
   "source": [
    "### Example JSON request\n",
    "#NOTE: Sentiment140 Polarity values: 0: negative, 2: neutral, 4: positive\n",
    "\n",
    "d = {'data':[{'text':'the titanic was ok'}, {'text':'this sucks'}]}\n",
    "d['data'].append({'text':\"Happy day!\"})\n",
    "\n",
    "r = requests.post('http://www.sentiment140.com/api/bulkClassifyJson?appid=blaz_j1@denison.edu', json=d)\n",
    "js = r.json()\n",
    "\n",
    "print(js['data'])"
   ]
  },
  {
   "cell_type": "code",
   "execution_count": 351,
   "metadata": {},
   "outputs": [
    {
     "name": "stdout",
     "output_type": "stream",
     "text": [
      "Text: the titanic was ok \n",
      "Polarity: 2\n",
      "Text: this sucks \n",
      "Polarity: 0\n",
      "Text: Happy day! \n",
      "Polarity: 4\n"
     ]
    }
   ],
   "source": [
    "### Example of accessing the polarities\n",
    "\n",
    "for i in range(len(d['data'])):\n",
    "    print(\"Text:\", js['data'][i]['text'], \"\\nPolarity:\", js['data'][i]['polarity'])"
   ]
  },
  {
   "cell_type": "code",
   "execution_count": 43,
   "metadata": {
    "collapsed": true
   },
   "outputs": [],
   "source": [
    "## Segment list indexing examples\n",
    "\n",
    "#print(hobbit_segments[15]) ## -- chapter\n",
    "#print(hobbit_segments[0][0]) ## -- segments of chapter"
   ]
  },
  {
   "cell_type": "code",
   "execution_count": null,
   "metadata": {
    "collapsed": true
   },
   "outputs": [],
   "source": [
    "#Working with 'glob'\n",
    "\n",
    "path= '/Users/blaz/Desktop/LOTR/silmarillion-chapters'\n",
    "silm_chapters = []\n",
    "\n",
    "for file in sorted(glob.glob(os.path.join(path,'*.txt'))):\n",
    "    print(file)\n",
    "    f = open(file, 'r')\n",
    "    txt = f.read()\n",
    "    silm_chapters.append(txt)\n",
    "    \n",
    "print(len(silm_chapters))\n",
    "print(silm_chapters[len(silm_chapters)-1])"
   ]
  }
 ],
 "metadata": {
  "kernelspec": {
   "display_name": "Python 3",
   "language": "python",
   "name": "python3"
  },
  "language_info": {
   "codemirror_mode": {
    "name": "ipython",
    "version": 3
   },
   "file_extension": ".py",
   "mimetype": "text/x-python",
   "name": "python",
   "nbconvert_exporter": "python",
   "pygments_lexer": "ipython3",
   "version": "3.6.3"
  }
 },
 "nbformat": 4,
 "nbformat_minor": 2
}
