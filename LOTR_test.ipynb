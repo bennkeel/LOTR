{
 "cells": [
  {
   "cell_type": "code",
   "execution_count": 230,
   "metadata": {
    "collapsed": true
   },
   "outputs": [],
   "source": [
    "## Josh Blaz -- LOTR\n",
    "import nltk\n",
    "import re\n",
    "import urllib.request\n",
    "import lxml.html as lh\n",
    "import io\n",
    "import requests\n",
    "import os\n",
    "import glob\n",
    "\n",
    "\n",
    "#NOTE: Sentiment140 Polarity values: 0: negative, 2: neutral, 4: positive\n"
   ]
  },
  {
   "cell_type": "markdown",
   "metadata": {},
   "source": [
    "NOTE: Elvish text is translated awkwardly into the .txt format    \n",
    "</br>\n",
    "IE:   \n",
    "</br>\n",
    "►M MPR -F+MTRX MP ft PPtK P&RMPht: P. t. The last Two runes are the initials of Thror and Thrain."
   ]
  },
  {
   "cell_type": "code",
   "execution_count": 232,
   "metadata": {},
   "outputs": [],
   "source": [
    "# Used Chapterize to split books into chapters \n",
    "## https://github.com/JonathanReeve/chapterize\n",
    "### The editions of the books I chose are slightly different than the editions chosen by LOTR project, the editions I \n",
    "### used have chapters that are merged together as sections of one another.\n",
    "\n",
    "# These are lists containing strings of every chapter for each book\n",
    "silm_chapters = []\n",
    "hobbit_chapters = []\n",
    "fellowship_chapters = []\n",
    "twotowers_chapters = []\n",
    "return_chapters = []\n",
    "\n",
    "# Paths to directories storing book chapters\n",
    "list_of_paths = ['/Users/blaz/Desktop/LOTR/silmarillion-chapters', '/Users/blaz/Desktop/LOTR/hobbit-chapters',\\\n",
    "                '/Users/blaz/Desktop/LOTR/fellowship-chapters', '/Users/blaz/Desktop/LOTR/twotowers-chapters',\\\n",
    "                '/Users/blaz/Desktop/LOTR/return-chapters']\n",
    "\n",
    "for path in list_of_paths: # iterate through the list of folder paths for each book\n",
    "    for file in sorted(glob.glob(os.path.join(path,'*.txt'))): # This gives us a sorted list of the files in each directory                                                         \n",
    "        f = open(file, 'r') # open and read file               # allowing us to read in the chapters in order.\n",
    "        txt = f.read()\n",
    "    \n",
    "        ## determine which path we're using and append it to the correct book chapter list\n",
    "        if path == '/Users/blaz/Desktop/LOTR/silmarillion-chapters': \n",
    "            silm_chapters.append(txt)\n",
    "        elif path == '/Users/blaz/Desktop/LOTR/hobbit-chapters':\n",
    "            hobbit_chapters.append(txt)\n",
    "        elif path == '/Users/blaz/Desktop/LOTR/fellowship-chapters': \n",
    "            fellowship_chapters.append(txt)\n",
    "        elif path == '/Users/blaz/Desktop/LOTR/twotowers-chapters': \n",
    "            twotowers_chapters.append(txt)\n",
    "        elif path == '/Users/blaz/Desktop/LOTR/return-chapters': \n",
    "            return_chapters.append(txt)\n"
   ]
  },
  {
   "cell_type": "markdown",
   "metadata": {},
   "source": [
    "# Sentiment Analysis"
   ]
  },
  {
   "cell_type": "markdown",
   "metadata": {},
   "source": [
    "**Now, for each book, we have lists containing all of the chapters for that book.  \n",
    "</br>\n",
    "This was accomplished by iterating through the directories that store the chapters for each book using the \"glob\" and \"os\" modules.**"
   ]
  },
  {
   "cell_type": "code",
   "execution_count": 233,
   "metadata": {
    "collapsed": true
   },
   "outputs": [],
   "source": [
    "\"\"\"\n",
    "Function that segments given chapter into a 2500 character segments to be sent to the API.\n",
    "\n",
    "Params - chapter is a chapter of a book to be broken into segments\n",
    "\n",
    "Returns a list of segments of the chapter.\n",
    "\"\"\"\n",
    "def Segmenter(chapter):\n",
    "    segments = []\n",
    "    \n",
    "    # start and end indices for segmenting the text\n",
    "    start = 0\n",
    "    end = 2500\n",
    "    \n",
    "    while end < len(chapter) + 2500:\n",
    "        segments.append(chapter[start:end])\n",
    "        start = end\n",
    "        end = end + 2500\n",
    "    \n",
    "    return segments #segments of input chapter"
   ]
  },
  {
   "cell_type": "markdown",
   "metadata": {},
   "source": [
    "**This function allows us to split the chapters of each book into segments to send in our HTTP-Post JSON requests.   \n",
    "</br>\n",
    "I chose 2500 as the length because this is roughly the length in characters of a page (including spaces). **"
   ]
  },
  {
   "cell_type": "code",
   "execution_count": 234,
   "metadata": {},
   "outputs": [
    {
     "name": "stdout",
     "output_type": "stream",
     "text": [
      "found, however, that some single runes stand for two modern letters: th, ng, ee; other runes of the \n",
      "same kind ( ^ea and COst) were also sometimes used. The secret door was marked DM. From the side \n",
      "a hand pointed to this, and under it was written: rinMratwixN \n",
      "\n",
      "►M MPR -F+MTRX MP ft PPtK P&amp;RMPht: P. t. The last Two runes are the initials of Thror and Thrain. The \n",
      "\n",
      "StF+M *RI-m XRMB MPM + ► M HHIM MFKKH F + \n",
      "\n",
      "SMtTI * sn+ PIK ►MTFht-riXWT I W ft fc l + h M F &amp; \n",
      "moon-runes read by Elrond were: pi rr ini+m ntxp+ pm \n",
      "\n",
      "On the Map the compass points are marked in runes, with East at the top, as usual in dwarf-maps, \n",
      "and so read clockwise: E(ast), S(outh), W(est), N(orth). \n",
      "\n",
      "\n"
     ]
    }
   ],
   "source": [
    "#Lists of Lists of Lists storing all segments of all chapters for each book\n",
    "# [[chapter1 segment 0-2500, chap1, segmenet 2500-5000]... [chapter2 segment0-2500, ...]...]\n",
    "silm_segments = []\n",
    "hobbit_segments = []\n",
    "fellowship_segments = []\n",
    "twotowers_segments = []\n",
    "return_segments = []\n",
    "\n",
    "# List containing the lists storing each books' chapters\n",
    "list_of_books = [silm_chapters, hobbit_chapters, fellowship_chapters, twotowers_chapters, return_chapters]\n",
    "# List allowing us to access the segment lists\n",
    "list_of_segments = [silm_segments, hobbit_segments, fellowship_segments, twotowers_segments, return_segments]\n",
    "\n",
    "# Access the lists above so that we can iteratively segment each chapter in the corpus\n",
    "for i in range(len(list_of_books)):\n",
    "    for book in list_of_books:\n",
    "        for chapter in list_of_books[i]:\n",
    "            list_of_segments[i].append(Segmenter(chapter))\n",
    "            \n",
    "#print(hobbit_segments[15]) ## chapter\n",
    "print(hobbit_segments[0][0]) ## segments of chapter"
   ]
  },
  {
   "cell_type": "code",
   "execution_count": 256,
   "metadata": {
    "collapsed": true
   },
   "outputs": [],
   "source": [
    "\"\"\"\n",
    "Function that sends segments of 1 chapter through the Sentiment140 API.\n",
    "In order to do so, it creates a JSON file and adds these segments to the file, then it sends an HTTP post to the \n",
    "API using the requests module.\n",
    "\n",
    "Returns \n",
    "\n",
    "Note: Maximum of 700,000 characters per API request, though this shouldn't be a problem\n",
    "\"\"\"\n",
    "\n",
    "def Polarity(chapter_segments): # segments of a single chapter\n",
    "    request = {'data':[]}\n",
    "    polarityList = []\n",
    "    counter = 0\n",
    "    for segment in chapter_segments: # Fill JSON\n",
    "        request['data'].append({'text':segment})\n",
    "    r = requests.post('http://www.sentiment140.com/api/bulkClassifyJson?appid=blaz_j1@denison.edu', json=request)\n",
    "    jso = r.json()\n",
    "    for i in range(len(request['data'])-1):\n",
    "        #print(jso['data'][i]['polarity'])\n",
    "        polarityList.append(jso['data'][i]['polarity'])\n",
    "        #print(jso['data'])\n",
    "    \n",
    "    polarityTotal = 0\n",
    "    for value in polarityList:\n",
    "        polarityTotal = polarityTotal + value\n",
    "    \n",
    "    polarityAVG = polarityTotal/len(polarityList)\n",
    "    #print(jso['data'])\n",
    "    print(polarityList)\n",
    "    return polarityAVG"
   ]
  },
  {
   "cell_type": "code",
   "execution_count": 257,
   "metadata": {},
   "outputs": [
    {
     "name": "stdout",
     "output_type": "stream",
     "text": [
      "[0, 0, 0, 0, 0, 0, 0, 0, 0]\n",
      "0.0\n",
      "[\"\\n\\n\\nIt was dark and Merry could see nothing as he lay on the ground rolled \\nin a blanket; yet though the night was airless and windless, all about him \\nhidden trees were sighing softly. He lifted his head. Then he heard it \\nagain: a sound like faint drums in the wooded hills and mountain -steps. The \\nthrob would cease suddenly and then be taken up again at some other point, \\nnow nearer, now further off. He wondered if the watchmen had heard it. \\n\\nHe could not see them, but he knew that all round him were the \\ncompanies of the Rohirrim. He could smell the horses in the dark, and could \\nhear their shiftings and their soft stamping on the needle-covered ground. \\n\\nThe host was bivouacked in the pine-woods that clustered about Eilenach \\nBeacon, a tall hill standing up from the long ridges of the Dr®adan Forest \\nthat lay beside the great road in East Anurien. \\n\\nTired as he was Merry could not sleep. He had ridden now for four days \\non end, and the ever -deepening gloom had slowly weighed down his heart. He \\nbegan to wonder why he had been so eager to come, when he had been given \\nevery excuse, even his lord's command, to stay behind. He wondered, too, if \\nthe old King knew that he had been disobeyed and was angry. Perhaps not. \\nThere seemed to be some understanding between Dernhelm and Elfhelm, \\nthe \\n\\nMarshal who commanded the jored in which they were riding. He and all his \\nmen ignored Merry and pretended not to hear if he spoke. He might have been \\njust another bag that Dernhelm was carrying. Dernhelm was no comfort: he \\nnever spoke to anyone. Merry felt small, unwanted, and lonely. Now the time \\nwas anxious, and the host was in peril. They were less than a day's ride \\nfrom the out- walls of Minas Tirith that encircled the townlands. Scouts had \\nbeen sent ahead. Some had not returned. Others hastening back had reported \\nthat the road was held in force against them. A host of the enemy was \\nencamped upon it, three miles west of Amon Don, and some strength of men \\nwas \\n\\nalready thrusting along the road and was no more than three leagues away. \\nOres were roving in the hills and woods along the roadside. The king and \\nJomer held council in the watches of the night. \\n\\nMerry wanted somebody to talk to, and he thought of Pippin. But that \\n\\n\\n\\n\\nonly increased his restlessness. Poor Pippin, shut up in the great city of \\nstone, lonely and afraid. Merry wished he was a tall Rider like Jomer and \\ncould blow a horn or something and go galloping to his rescue. He sat up, \\nlis\", \"tening to the drums that were beating again, now nearer at hand. \\nPresently he heard voices speaking low, and he saw dim half-shrouded \\nlanterns passing through the trees. Men nearby began to move uncertainly in \\nthe dark. \\n\\nA tall figure loomed up and stumbled over him, cursing the tree-roots. \\n\\nHe recognized the voice of the Marshal, Elfhelm. \\n\\n'I am not a tree-root, Sir,' he said, 'nor a bag, but a bruised hobbit. \\n\\nThe least you can do in amends is to tell me what is afoot.' \\n\\n'Anything that can keep so in this devil's mirk,' answered Elfhelm. \\n\\n'But my lord sends word that we must set ourselves in readiness: orders may \\ncome for a sudden move.' \\n\\n'Is the enemy coming then?' asked Merry anxiously. 'Are those their \\ndrums? I began to think I was imagining them, as no one else seemed to take \\nany notice of them.' \\n\\n'Nay, nay,' said Elfhelm, 'the enemy is on the road not in the hills. \\n\\nYou hear the Woses, the Wild Men of the Woods: thus they talk together from \\nafar. They still haunt Dr®adan Forest, it is said. Remnants of an older time \\nthey be, living few and secretly, wild and wary as the beasts. They go not \\nto war with Gondor or the Mark; but now they are troubled by the darkness \\nand the coming of the ores: they fear lest the Dark Years be returning, as \\nseems likely enough. Let us be thankful that they are not hunting us: for \\nthey use poisoned arrows, it is said, and they are woodcrafty beyond \\ncompare. But they have offered their services to Thjoden. Even now one of \\ntheir headmen is being taken to the king. Yonder go the lights. So much I \\nhave heard but no more. And now I must busy myself with my lord's \\ncommands. \\n\\nPack yourself up, Master Bag!' He vanished into the shadows. \\n\\nMerry did not like this talk of wild men and poisoned darts, but quite \\napart from that a great weight of dread was on him. Waiting was unbearable. \\nHe longed to know what was going to happen. He got up and soon was \\nwalking \\n\\nwarily in pursuit of the last lantern before it disappeared among the trees. \\n\\nPresently he came to an open space where a small tent had been set up \\nfor the king under a great tree. A large lantern, covered above, was hanging \\n\\n\\n\\n\\nfrom a bough and cast a pale circle of light below. There sat Thjoden and \\nJomer, and before them on the ground sat a strange squat shape of a man, \\ngnarled as an old stone, and the hairs of his scanty beard straggled on his \\nlumpy chin like dry moss. He was short -legged and fat-armed, thick and \\nstumpy, and clad only \", \"with grass about his waist. Merry felt that he had \\nseen him before somewhere, and suddenly he remembered the P®kel-men \\nof \\n\\nDunharrow. Here was one of those old images brought to life, or maybe a \\ncreature descended in true line through endless years from the models used \\nby the forgotten craftsmen long ago. \\n\\nThere was a silence as Merry crept nearer, and then the Wild Man began \\nto speak, in answer to some question, it seemed. His voice was deep and \\nguttural, yet to Merry's surprise he spoke the Common Speech, though in a \\nhalting fashion, and uncouth words were mingled with it. \\n\\n’No, father of Horse-men,' he said, 'we fight not. Hunt only. Kill \\ngorgyn in woods, hate ore-folk. You hate gorgyn too. We help as we can. Wild \\nMen have long ears and long eyes; know all paths. Wild Men live here before \\nStone-houses; before Tall Men come up out of Water.' \\n\\n'But our need is for aid in battle,' said Jomer. 'How will you and your \\nfolk help us?' \\n\\n'Bring news,' said the Wild Man. 'We look out from hills. We climb big \\nmountain and look down. Stone-city is shut. Fire burns there outside; now \\ninside too. You wish to come there? Then you must be quick. But gorgyn and \\nmen out of far-away,' he waved a short gnarled arm eastward, 'sit on \\nhorse-road. Very many, more than Horse-men.' \\n\\n'How do you know that?' said Jomer. \\n\\nThe old man's flat face and dark eyes showed nothing, but his voice was \\nsullen with displeasure. 'Wild men are wild, free, but not children,' he \\nanswered. 'I am great headman, Ghvn-buri-Ghvn. I count many things: stars in \\nsky, leaves on trees, men in the dark. You have a score of scores counted \\nten times and five. They have more. Big fight, and who will win? And many \\nmore walk round walls of Stone-houses.' \\n\\n'Alas! he speaks all too shrewdly,' said Thjoden. 'And our scouts say \\nthat they have cast trenches and stakes across the road. We cannot sweep \\nthem away in sudden onset.' \\n\\n'And yet we need great haste,' said Jomer. 'Mundburg is on fire!' \\n\\n'Let Ghvn-buri-Ghvn finish!' said the Wild Man. 'More than one road he \\n\\n\\n\\n\\nknows. He will lead you by road where no pits are, no gorgyn walk, only Wild \\nMen and beasts. Many paths were made when Stonehouse-folk were \\nstronger. \\n\\nThey carved hills as hunters carve beast-flesh. Wild Men think they ate \\nstone for food. They went through Dr®adan to Rimmon with great wains. \\nThey \\n\\ngo no longer. Road is forgotten, but not by Wild Men. Over hill and behind \\nhill it lies still under grass and tree, the\", \"re behind Rimmon and down to \\nDon, and back at the end to Horse-men's road. Wild Men will show you that \\nroad. Then you will kill gorgyn and drive away bad dark with bright iron, \\nand Wild Men can go back to sleep in the wild woods.' \\n\\nJomer and the king spoke together in their own tongue. At length \\nThjoden turned to the Wild Man. 'We will receive your offer,' he said. 'For \\nthough we leave a host of foes behind, what matter? If the Stone-city falls, \\nthen we shall have no returning. If it is saved, then the ore-host itself \\nwill be cut off. If you are faithful, Ghvn-buri-Ghvn, then we will give you \\nrich reward, and you shall have the friendship of the Mark for ever.' \\n\\n'Dead men are not friends to living men, and give them no gifts,' said \\nthe Wild Man. 'But if you live after the Darkness, then leave Wild Men alone \\nin the woods and do not hunt them like beasts any more. Ghvn-buri-Ghvn will \\nnot lead you into trap. He will go himself with father of Horse-men, and if \\nhe leads you wrong, you will kill him.' \\n\\n'So be it!' said Thjoden. \\n\\n'How long will it take to pass by the enemy and come back to the road?' \\nasked Jomer. 'We must go at foot-pace, if you guide us; and I doubt not the \\nway is narrow.' \\n\\n'Wild Men go quick on feet,' said Ghvn. 'Way is wide for four horses in \\nStonewain Valley yonder,' he waved his hand southwards; 'but narrow at \\nbeginning and at end. Wild Man could walk from here to Don between sunrise \\nand noon.' \\n\\n'Then we must allow at least seven hours for the leaders,' said Jomer; \\n\\n'but we must reckon rather on some ten hours for all. Things unforeseen may \\nhinder us, and if our host is all strung out, it will be long ere it can be \\nset in order when we issue from the hills. What is the hour now?' \\n\\n'Who knows?' said Thjoden. 'All is night now.' \\n\\n'It is all dark, but it is not all night.' said Ghvn. 'When Sun comes \\nwe feel her, even when she is hidden. Already she climbs over \\n\\n\\n\\n\\nEast -mountains. It is the opening of day in the sky-fields.' \\n\\n'Then we must set out as soon as may be,' said Jomer. 'Even so we \\ncannot hope to come to Gondor's aid today.' \\n\\nMerry waited to hear no more, but slipped away to get ready for the \\nsummons to the march. This was the last stage before the battle. It did not \\nseem likely to him that many of them would survive it. But he thought of \\nPippin and the flames in Minas Tirith and thrust down his own dread. \\n\\nAll went well that day, and no sight or sound had they of the enemy \\nwaiting to waylay them. \", \"The Wild Men had put out a screen of wary hunters, \\nso that no ore or roving spy should learn of the movements in the hills. The \\nlight was more dim than ever as they drew nearer to the beleaguered city, \\nand the Riders passed in long files like dark shadows of men and horses. \\nEach company was guided by a wild woodman; but old Ghvn walked beside \\nthe \\n\\nking. The start had been slower than was hoped, for it had taken time for \\nthe Riders, walking and leading their horses, to find paths over the thickly \\nwooded ridges behind their camp and down into the hidden Stonewain Valley. \\nIt was late in the afternoon when the leaders came to wide grey thickets \\nstretching beyond the eastward side of Amon Don, and masking a great gap in \\nthe line of hills that from Nardol to Don ran east and west. Through the gap \\nthe forgotten wain-road long ago had run down, back into the main horse-way \\nfrom the City through Anurien; but now for many lives of men trees had had \\ntheir way with it, and it had vanished, broken and buried under the leaves \\nof uncounted years. But the thickets offered to the Riders their last hope \\nof cover before they went into open battle; for beyond them lay the road and \\nthe plains of Anduin, while east and southwards the slopes were bare and \\nrocky, as the writhen hills gathered themselves together and climbed up, \\nbastion upon bastion, into the great mass and shoulders of Mindolluin. \\n\\nThe leading company was halted, and as those behind filed up out of the \\ntrough of the Stonewain Valley they spread out and passed to camping -places \\nunder the grey trees. The king summoned the captains to council. Jomer sent \\nout scouts to spy upon the road; but old Ghvn shook his head. \\n\\n'No good to send Horse-men,' he said. 'Wild Men have already seen all \\nthat can be seen in the bad air. They will come soon and speak to me here.' \\n\\nThe captains came; and then out of the trees crept warily other \\np®kel-shapes so like old Ghvn that Merry could hardly tell them apart. They \\nspoke to Ghvn in a strange throaty language. \\n\\n\\n\\n\\nPresently Ghvn turned to the king. 'Wild Men say many things ' he said. \\n'First, be wary! Still many men in camp beyond Don, an hour's walk yonder,' \\nhe waved his arm west towards the black beacon. 'But none to see between \\nhere and Stone-folk's new walls. Many busy there. Walls stand up no longer: \\ngorgyn knock them down with earth-thunder and with clubs of black iron. They \\nare unwary and do not look about them. They think their friends watch \", \"all \\nroads!' At that old Ghvn made a curious gurgling noise, and it seemed that \\nhe was laughing. \\n\\n'Good tidings!' cried Jomer. 'Even in this gloom hope gleams again. Our \\nEnemy's devices oft serve us in his despite. The accursed darkness itself \\nhas been a cloak to us. And now, lusting to destroy Gondor and throw it down \\nstone from stone, his ores have taken away my greatest fear. The out-wall \\ncould have been held long against us. Now we can sweep through - if once we \\nwin so far.' \\n\\n'Once again I thank you, Ghvn-buri-Ghvn of the woods,' said Thjoden. \\n'Good fortune go with you for tidings and for guidance!' \\n\\n'Kill gorgynl Kill ore-folk! No other words please Wild Men ' answered \\nGhvn. 'Drive away bad air and darkness with bright iron!' \\n\\n'To do these things we have ridden far,' said the king, 'and we shall \\nattempt them. But what we shall achieve only tomorrow will show.' \\n\\nGhvn-buri-Ghvn squatted down and touched the earth with his horny brow \\nin token of farewell. Then he got up as if to depart. But suddenly he stood \\nlooking up like some startled woodland animal snuffling a strange air. A \\nlight came in his eyes. \\n\\n'Wind is changing!' he cried, and with that, in a twinkling as it \\nseemed, he and his fellows had vanished into the glooms, never to be seen by \\nany Rider of Rohan again. Not long after far away eastward the faint drums \\nthrobbed again. Yet to no heart in all the host came any fear that the Wild \\nMen were unfaithful, strange and unlovely though they might appear. \\n\\n'We need no further guidance,' said Elfhelm; 'for there are riders in \\nthe host who have ridden down to Mundburg in days of peace. I for one. When \\nwe come to the road it will veer south, and there will lie before us still \\nseven leagues ere we reach the wall of the townlands. Along most of that way \\nthere is much grass on either side of the road. On that stretch the \\nerrand-riders of Gondor reckoned to make their greatest speed. We may ride \\nit swiftly and without great rumour.' \\n\\n'Then since we must look for fell deeds and the need of all our \\n\\n\\n\\n\\nstrength,' said Jomer, 'I counsel that we rest now, and set out hence by \\nnight, and so time our going that we come upon the fields when tomorrow is \\nas light as it will be, or when our lord gives the signal.' \\n\\nTo this the king assented, and the captains departed. But soon Elfhelm \\nreturned. 'The scouts have found naught to report beyond the grey wood, \\nlord,' he said, 'save two men only: two dead men and two dead horses.' \\n\\n'Wel\", \"l?' said Jomer. 'What of it?' \\n\\n'This, lord: they were errand-riders of Gondor; Hirgon was one maybe. \\n\\nAt least his hand still clasped the Red Arrow, but his head was hewn off. \\n\\nAnd this also: it would seem by the signs that they were fleeing westward \\nwhen they fell. As I read it, they found the enemy already on the out-wall, \\nor assailing it, when they returned - and that would be two nights ago, if \\nthey used fresh horses from the posts, as is their wont. They could not \\nreach the City and turned back.' \\n\\n'Alas!' said Thjoden. 'Then Denethor has heard no news of our riding \\nand will despair of our coming.' \\n\\n'Need brooks no delay, yet late is better than never,' said Jomer. 'And \\nmayhap in this time shall the old saw be proved truer than ever before since \\nmen spoke with mouth.' \\n\\nIt was night. On either side of the road the host of Rohan was moving \\nsilently. Now the road passing about the skirts of Mindolluin turned \\nsouthward. Far away and almost straight ahead there was a red glow under the \\nblack sky and the sides of the great mountain loomed dark against it. They \\nwere drawing near the Rammas of the Pelennor; but the day was not yet come. \\n\\nThe king rode in the midst of the leading company, his household-men \\nabout him. Elfhelm's jored came next; and now Merry noticed that Dernhelm \\nhad left his place and in the darkness was moving steadily forward, until at \\nlast he was riding just in rear of the king's guard. There came a check. \\n\\nMerry heard voices in front speaking softly. Out-riders had come back who \\nhad ventured forward almost to the wall. They came to the king. \\n\\n'There are great fires, lord,' said one. 'The City is all set about \\nwith flame, and the field is full of foes. But all seem drawn off to the \\nassault. As well as we could guess, there are few left upon the out-wall, \\nand they are heedless, busy in destruction.' \\n\\n'Do you remember the Wild Man's words, lord?' said another. 'I live \\nupon the open Wold in days of peace; Wndfara is my name, and to me also the \\nair brings messages. Already the wind is turning. There comes a breath out \\n\\n\\n\\n\\nof the South; there is a sea -tang in it, faint though it be. The morning \\nwill bring new things. Above the reek it will be dawn when you pass the \\nwall.' \\n\\n'If you speak truly, Wndfara, then may you live beyond this day in \\nyears of blessedness!' said Thjoden. He turned to the men of his household \\nwho were near, and he spoke now in a clear voice so that many also of the \\nriders of the first jore\", \"d heard him: \\n\\n'Now is the hour come, Riders of the Mark, sons of Eorl! Foes and fire \\nare before you, and your homes far behind. Yet, though you fight upon an \\nalien field, the glory that you reap there shall be your own for ever. Oaths \\nye have taken: now fulfil them all, to lord and land and league of \\nfriendship!' \\n\\nMen clashed spear upon shield. \\n\\n'Jomer, my son! You lead the first jored' said Thjoden; 'and it shall \\ngo behind the king's banner in the centre. Elfhelm, lead your company to the \\nright when we pass the wall. And Grimbold shall lead his towards the left. \\nLet the other companies behind follow these three that lead, as they have \\nchance. Strike wherever the enemy gathers. Other plans we cannot make, for \\nwe know not yet how things stand upon the field. Forth now, and fear no \\ndarkness!' \\n\\nThe leading company rode off as swiftly as they could, for it was still \\ndeep dark, whatever change Wndfara might forebode. Merry was riding \\nbehind \\n\\nDernhelm, clutching with the left hand while with the other he tried to \\nloosen his sword in its sheath. He felt now bitterly the truth of the old \\nking's words: in such a battle what would you do Meriadoc? Just this,' he \\nthought: 'encumber a rider, and hope at best to stay in my seat and not be \\npounded to death by galloping hoofs!' \\n\\nIt was no more than a league to where the out-walls had stood. They \\nsoon reached them; too soon for Merry. Wild cries broke out, and there was \\nsome clash of arms, but it was brief. The ores busy about the walls were few \\nand amazed, and they were quickly slain or driven off. Before the ruin of \\nthe north-gate in the Rammas the king halted again. The first jored drew up \\nbehind him and about him on either side. Dernhelm kept close to the king, \\nthough Elfhelm's company was away on the right. Grimbold's men turned \\naside \\n\\nand passed round to a great gap in the wall further eastward. \\n\\n\\n\\n\\nMerry peered from behind Dernhelm's back. Far away, maybe ten miles or \\nmore, there was a great burning, but between it and the Riders lines of fire \\nblazed in a vast crescent, at the nearest point less than a league distant. \\n\\nHe could make out little more on the dark plain, and as yet he neither saw \\nany hope of morning, nor felt any wind, changed or unchanged. \\n\\nNow silently the host of Rohan moved forward into the field of Gondor, \\npouring in slowly but steadily, like the rising tide through breaches in a \\ndike that men have thought secure. But the mind and will of the Black \\nCaptain we\", 're bent wholly on the falling city, and as yet no tidings came to \\nhim warning that his designs held any flaw. \\n\\nAfter a while the king led his men away somewhat eastward, to come \\nbetween the fires of the siege and the outer fields. Still they were \\nunchallenged, and still Thjoden gave no signal. At last he halted once \\nagain. The City was now nearer. A smell of burning was in the air and a very \\nshadow of death. The horses were uneasy. But the king sat upon Snowmane, \\nmotionless, gazing upon the agony of Minas Tirith, as if stricken suddenly \\nby anguish, or by dread. He seemed to shrink down, cowed by age. Merry \\nhimself felt as if a great weight of horror and doubt had settled on him. \\n\\nHis heart beat slowly. Time seemed poised in uncertainty. They were too \\nlate! Too late was worse than never! Perhaps Thjoden would quail, bow his \\nold head, turn, slink away to hide in the hills. \\n\\nThen suddenly Merry felt it at last, beyond doubt: a change. Wind was \\nin his face! Light was glimmering. Far, far away, in the South the clouds \\ncould be dimly seen as remote grey shapes, rolling up, drifting: morning lay \\nbeyond them. \\n\\nBut at that same moment there was a flash, as if lightning had sprung \\nfrom the earth beneath the City. For a searing second it stood dazzling far \\noff in black and white, its topmost tower like a glittering needle: and then \\nas the darkness closed again there came rolling over the fields a great \\nboom. \\n\\nAt that sound the bent shape of the king sprang suddenly erect. Tall \\nand proud he seemed again; and rising in his stirrups he cried in a loud \\nvoice, more clear than any there had ever heard a mortal man achieve before: \\nArise, arise, Riders of Thjoden! \\n\\nFell deeds awake: fire and slaughter! \\nspear shall be shaken, shield be splintered, \\na sword-day, a red day, ere the sun rises! \\n\\n\\n\\n\\nRide now, ride now! Ride to Gondor! \\n\\nWith that he seized a great horn from Guthlbf his banner-bearer, and he \\nblew such a blast upon it that it burst asunder. And straightway all the \\nhorns in the host were lifted up in music, and the blowing of the horns of \\nRohan in that hour was like a storm upon the plain and a thunder in the \\nmountains. \\n\\nRide now, ride now! Ride to Gondor! \\n\\nSuddenly the king cried to Snowmane and the horse sprang away. Behind \\nhim his banner blew in the wind, white horse upon a field of green, but he \\noutpaced it. After him thundered the knights of his house, but he was ever \\nbefore them. Jomer rode there, the white horsetail on his ', 'helm floating in \\nhis speed, and the front of the first jored roared like a breaker foaming to \\nthe shore, but Thjoden could not be overtaken. Fey he seemed, or the \\nbattle-fury of his fathers ran like new tire in his veins, and he was borne \\nup on Snowmane like a god of old, even as Oroml the Great in the battle of \\nthe Valar when the world was young. His golden shield was uncovered, and lo \\nit shone like an image of the Sun, and the grass flamed into green about the \\nwhite feet of his steed. For morning came, morning and a wind from the sea; \\nand the darkness was removed, and the hosts of Mordor wailed, and terror \\ntook them, and they fled, and died, and the hoofs of wrath rode over them. \\nAnd then all the host of Rohan burst into song, and they sang as they slew, \\nfor the joy of battle was on them, and the sound of their singing that was \\nfair and terrible came even to the City. \\n\\n\\n\\n']\n"
     ]
    }
   ],
   "source": [
    "silm_polarity = []\n",
    "hobbit_polarity = []\n",
    "fellowship_polarity = []\n",
    "twotowers_polarity = []\n",
    "return_polarity = []\n",
    "\n",
    "\n",
    "for i in range(len(return_chapters)):\n",
    "    if i == 4:\n",
    "        print(Polarity(return_segments[i]))\n",
    "        print(return_segments[i])"
   ]
  },
  {
   "cell_type": "code",
   "execution_count": null,
   "metadata": {
    "collapsed": true
   },
   "outputs": [],
   "source": [
    "# Example JSON request\n",
    "d = {'data':[{'text': 'awesome'}, {'text': 'this fucking sucks idiot'}, {'text': 'dumby'}]}\n",
    "d[\"data\"].append({'text': 'okay'})\n",
    "print(d)\n",
    "len(d['data'])\n",
    "\n",
    "#r = requests.post('http://www.sentiment140.com/api/bulkClassifyJson?appid=blaz_j1@denison.edu', json=d)\n",
    "#print(r.status_code)\n",
    "#r.json()\n",
    "\n",
    "js = r.json()\n",
    "\n",
    "# Example of accessing the polarity values\n",
    "#print(js['data'])\n",
    "js['data'][0]['polarity']\n",
    "js['data'][1]['polarity']\n",
    "js['data'][2]['polarity']"
   ]
  },
  {
   "cell_type": "markdown",
   "metadata": {
    "collapsed": true
   },
   "source": [
    "# Topic Modeling"
   ]
  },
  {
   "cell_type": "code",
   "execution_count": null,
   "metadata": {
    "collapsed": true
   },
   "outputs": [],
   "source": []
  },
  {
   "cell_type": "code",
   "execution_count": null,
   "metadata": {
    "collapsed": true
   },
   "outputs": [],
   "source": []
  },
  {
   "cell_type": "code",
   "execution_count": null,
   "metadata": {
    "collapsed": true
   },
   "outputs": [],
   "source": []
  },
  {
   "cell_type": "code",
   "execution_count": null,
   "metadata": {
    "collapsed": true
   },
   "outputs": [],
   "source": []
  },
  {
   "cell_type": "code",
   "execution_count": null,
   "metadata": {
    "collapsed": true
   },
   "outputs": [],
   "source": []
  },
  {
   "cell_type": "code",
   "execution_count": null,
   "metadata": {
    "collapsed": true
   },
   "outputs": [],
   "source": []
  }
 ],
 "metadata": {
  "kernelspec": {
   "display_name": "Python 3",
   "language": "python",
   "name": "python3"
  },
  "language_info": {
   "codemirror_mode": {
    "name": "ipython",
    "version": 3
   },
   "file_extension": ".py",
   "mimetype": "text/x-python",
   "name": "python",
   "nbconvert_exporter": "python",
   "pygments_lexer": "ipython3",
   "version": "3.6.3"
  }
 },
 "nbformat": 4,
 "nbformat_minor": 2
}
